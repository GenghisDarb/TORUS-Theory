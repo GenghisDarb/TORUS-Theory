{
 "cells": [
  {
   "cell_type": "markdown",
   "id": "0",
   "metadata": {},
   "source": [
    "# Audio Harmonics χ Analysis"
   ]
  },
  {
   "cell_type": "code",
   "execution_count": null,
   "id": "1",
   "metadata": {},
   "outputs": [],
   "source": [
    "\n",
    "import wave, numpy as np, matplotlib.pyplot as plt, scipy.signal as ss, struct\n",
    "with wave.open('recursion14.wav') as w:\n",
    "    data=np.frombuffer(w.readframes(w.getnframes()),dtype=np.int16)/32768.0\n",
    "    fs=w.getframerate()\n",
    "f,P=ss.welch(data,fs,nperseg=4096)\n",
    "plt.semilogy(f,P); plt.title('PSD'); plt.xlim(0,5000)\n"
   ]
  },
  {
   "cell_type": "code",
   "execution_count": null,
   "id": "2",
   "metadata": {},
   "outputs": [],
   "source": [
    "import os, pathlib, sys; print(pathlib.Path('.').resolve())"
   ]
  },
  {
   "cell_type": "code",
   "execution_count": null,
   "id": "3",
   "metadata": {},
   "outputs": [],
   "source": [
    "bash<br>python stack_timing.py --iters 20000 --trace latent<br>"
   ]
  },
  {
   "cell_type": "code",
   "execution_count": null,
   "id": "4",
   "metadata": {},
   "outputs": [],
   "source": [
    "import wave, numpy as np, matplotlib.pyplot as plt, scipy.signal as ss, struct\n",
    "with wave.open('recursion14.wav') as w:\n",
    "    data=np.frombuffer(w.readframes(w.getnframes()),dtype=np.int16)/32768.0\n",
    "    fs=w.getframerate()\n",
    "f,P=ss.welch(data,fs,nperseg=4096)\n",
    "plt.semilogy(f,P); plt.title('PSD'); plt.xlim(0,5000)"
   ]
  },
  {
   "cell_type": "code",
   "execution_count": null,
   "id": "5",
   "metadata": {},
   "outputs": [],
   "source": []
  }
 ],
 "metadata": {
  "kernelspec": {
   "display_name": "Python 3 (ipykernel)",
   "language": "python",
   "name": "python3"
  },
  "language_info": {
   "codemirror_mode": {
    "name": "ipython",
    "version": 3
   },
   "file_extension": ".py",
   "mimetype": "text/x-python",
   "name": "python",
   "nbconvert_exporter": "python",
   "pygments_lexer": "ipython3",
   "version": "3.13.3"
  }
 },
 "nbformat": 4,
 "nbformat_minor": 5
}
