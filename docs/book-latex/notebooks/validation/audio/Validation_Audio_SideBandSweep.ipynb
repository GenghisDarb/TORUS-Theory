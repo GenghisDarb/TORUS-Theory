{
 "cells": [
  {
   "cell_type": "code",
   "execution_count": null,
   "id": "0",
   "metadata": {
    "tags": [
     "TORUS-BOOTSTRAP-CELL"
    ]
   },
   "outputs": [],
   "source": [
    "# --- 🚀 TORUS universal imports / helpers ---\n",
    "import numpy as np\n",
    "import matplotlib.pyplot as plt\n",
    "np.random.seed(42)\n",
    "\n",
    "# Safe σ helper – never let σ==0 blow up χ²\n",
    "def safe_sigma(sig, floor=1e-12):\n",
    "    sig = np.asarray(sig, dtype=float)\n",
    "    bad = sig < floor\n",
    "    if bad.any():\n",
    "        print(f'[boot] σ floor applied to {bad.sum()} cells')\n",
    "        sig[bad] = floor\n",
    "    return sig\n"
   ]
  },
  {
   "cell_type": "markdown",
   "id": "1",
   "metadata": {},
   "source": [
    "# Validation A8 — Audio Side-Band Sweep (±1/14)"
   ]
  },
  {
   "cell_type": "code",
   "execution_count": null,
   "id": "2",
   "metadata": {},
   "outputs": [],
   "source": [
    "\n",
    "from scipy.fft import fft, fftfreq\n",
    "from scipy.signal import hann\n",
    "import numpy as np\n",
    "fs, T = 44100, 1.0\n",
    "N = int(fs*T)\n",
    "t  = np.linspace(0, T, N, endpoint=False)\n",
    "f0 = 440\n",
    "mod = 1 + 0.05*np.sin(2*np.pi*t*f0/14)\n",
    "signal   = np.sin(2*np.pi*f0*t)*mod\n",
    "windowed = signal*hann(len(signal))\n",
    "freqs    = fftfreq(N, 1/fs)\n",
    "spectrum = np.abs(fft(windowed))\n",
    "plt.figure(figsize=(10,4))\n",
    "plt.plot(freqs[:N//2], 20*np.log10(spectrum[:N//2]+1e-12))\n",
    "plt.axvline(f0, color='red', linestyle='--', label='f₀')\n",
    "plt.axvline(f0*(1+1/14), color='blue', linestyle='--', label='f₀ × 1.0714')\n",
    "plt.xlabel(\"Frequency (Hz)\"); plt.ylabel(\"Amplitude (dB)\")\n",
    "plt.title(\"FFT of Modulated Audio with 1/14 Side-Band\")\n",
    "plt.legend(); plt.grid(True); plt.show()\n"
   ]
  }
 ],
 "metadata": {
  "kernelspec": {
   "display_name": "Python 3",
   "language": "python",
   "name": "python3"
  }
 },
 "nbformat": 4,
 "nbformat_minor": 5
}
