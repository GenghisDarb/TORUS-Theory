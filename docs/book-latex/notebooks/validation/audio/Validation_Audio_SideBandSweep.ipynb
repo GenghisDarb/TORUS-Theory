{
 "cells": [
  {
   "cell_type": "markdown",
   "id": "fb59e490",
   "metadata": {},
   "source": [
    "# Validation A8 — Audio Side-Band Sweep (±1/14)"
   ]
  },
  {
   "cell_type": "code",
   "execution_count": null,
   "id": "5b426130",
   "metadata": {},
   "outputs": [],
   "source": [
    "\n",
    "from scipy.fft import fft, fftfreq\n",
    "from scipy.signal import hann\n",
    "import numpy as np, matplotlib.pyplot as plt\n",
    "fs, T = 44100, 1.0\n",
    "N = int(fs*T)\n",
    "t  = np.linspace(0, T, N, endpoint=False)\n",
    "f0 = 440\n",
    "mod = 1 + 0.05*np.sin(2*np.pi*t*f0/14)\n",
    "signal   = np.sin(2*np.pi*f0*t)*mod\n",
    "windowed = signal*hann(len(signal))\n",
    "freqs    = fftfreq(N, 1/fs)\n",
    "spectrum = np.abs(fft(windowed))\n",
    "plt.figure(figsize=(10,4))\n",
    "plt.plot(freqs[:N//2], 20*np.log10(spectrum[:N//2]+1e-12))\n",
    "plt.axvline(f0, color='red', linestyle='--', label='f₀')\n",
    "plt.axvline(f0*(1+1/14), color='blue', linestyle='--', label='f₀ × 1.0714')\n",
    "plt.xlabel(\"Frequency (Hz)\"); plt.ylabel(\"Amplitude (dB)\")\n",
    "plt.title(\"FFT of Modulated Audio with 1/14 Side-Band\")\n",
    "plt.legend(); plt.grid(True); plt.show()\n"
   ]
  }
 ],
 "metadata": {},
 "nbformat": 4,
 "nbformat_minor": 5
}
