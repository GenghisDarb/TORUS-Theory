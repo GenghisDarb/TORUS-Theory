{
 "cells": [
  {
   "cell_type": "markdown",
   "id": "5f4fb3d7",
   "metadata": {},
   "source": [
    "# χ-Scan Validation — PFAM family counts"
   ]
  },
  {
   "cell_type": "code",
   "execution_count": null,
   "id": "eac781b8",
   "metadata": {},
   "outputs": [],
   "source": [
    "\n",
    "import numpy as np, matplotlib.pyplot as plt, scipy.stats as st\n",
    "np.random.seed(1)\n",
    "n_events = 100\n",
    "bursts = np.cumsum(np.random.exponential(scale=1.0, size=n_events))\n",
    "bursts += 0.1*np.sin(2*np.pi*bursts/14)\n"
   ]
  },
  {
   "cell_type": "code",
   "execution_count": null,
   "id": "01d26551",
   "metadata": {},
   "outputs": [],
   "source": [
    "\n",
    "intervals = np.diff(bursts)\n",
    "periods   = np.arange(1, 30)\n",
    "entropy   = [np.std(np.mod(bursts, p)) for p in periods]\n",
    "min_idx   = np.argmin(entropy)\n",
    "print(f\"Minimum dispersion at period ≈ {periods[min_idx]} (target 14)\")\n"
   ]
  },
  {
   "cell_type": "code",
   "execution_count": null,
   "id": "18e7eff9",
   "metadata": {},
   "outputs": [],
   "source": [
    "\n",
    "plt.figure(figsize=(8,4))\n",
    "plt.plot(periods, entropy, 'o-')\n",
    "plt.axvline(14, color='red', linestyle='--', label='Expected χ harmonic')\n",
    "plt.title(\"χ-Spectral Scan over Burst Sequence\")\n",
    "plt.xlabel(\"Test Period\"); plt.ylabel(\"Modular Dispersion (std dev)\")\n",
    "plt.grid(True); plt.legend(); plt.show()\n"
   ]
  }
 ],
 "metadata": {},
 "nbformat": 4,
 "nbformat_minor": 5
}
