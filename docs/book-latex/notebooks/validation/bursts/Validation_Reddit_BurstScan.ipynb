{
 "cells": [
  {
   "cell_type": "code",
   "execution_count": null,
   "id": "0",
   "metadata": {
    "tags": [
     "TORUS-BOOTSTRAP-CELL"
    ]
   },
   "outputs": [],
   "source": [
    "# --- 🚀 TORUS universal imports / helpers ---\n",
    "import os, json, math, numpy as np, pandas as pd, matplotlib.pyplot as plt\n",
    "from scipy.stats import chi2, pearsonr\n",
    "from scipy.special import erfcinv\n",
    "np.random.seed(42)\n",
    "\n",
    "# Safe σ helper – never let σ==0 blow up χ²\n",
    "def safe_sigma(sig, floor=1e-12):\n",
    "    sig = np.asarray(sig, dtype=float)\n",
    "    bad = sig < floor\n",
    "    if bad.any():\n",
    "        print(f'[boot] σ floor applied to {bad.sum()} cells')\n",
    "        sig[bad] = floor\n",
    "    return sig\n"
   ]
  },
  {
   "cell_type": "markdown",
   "id": "1",
   "metadata": {},
   "source": [
    "# χ-Scan Validation — Reddit post bursts"
   ]
  },
  {
   "cell_type": "code",
   "execution_count": null,
   "id": "2",
   "metadata": {},
   "outputs": [],
   "source": [
    "\n",
    "import numpy as np, matplotlib.pyplot as plt, scipy.stats as st\n",
    "np.random.seed(1)\n",
    "n_events = 100\n",
    "bursts = np.cumsum(np.random.exponential(scale=1.0, size=n_events))\n",
    "bursts += 0.1*np.sin(2*np.pi*bursts/14)\n"
   ]
  },
  {
   "cell_type": "code",
   "execution_count": null,
   "id": "3",
   "metadata": {},
   "outputs": [],
   "source": [
    "\n",
    "intervals = np.diff(bursts)\n",
    "periods   = np.arange(1, 30)\n",
    "entropy   = [np.std(np.mod(bursts, p)) for p in periods]\n",
    "min_idx   = np.argmin(entropy)\n",
    "print(f\"Minimum dispersion at period ≈ {periods[min_idx]} (target 14)\")\n"
   ]
  },
  {
   "cell_type": "code",
   "execution_count": null,
   "id": "4",
   "metadata": {},
   "outputs": [],
   "source": [
    "\n",
    "plt.figure(figsize=(8,4))\n",
    "plt.plot(periods, entropy, 'o-')\n",
    "plt.axvline(14, color='red', linestyle='--', label='Expected χ harmonic')\n",
    "plt.title(\"χ-Spectral Scan over Burst Sequence\")\n",
    "plt.xlabel(\"Test Period\"); plt.ylabel(\"Modular Dispersion (std dev)\")\n",
    "plt.grid(True); plt.legend(); plt.show()\n"
   ]
  }
 ],
 "metadata": {
  "kernelspec": {
   "display_name": "Python 3",
   "language": "python",
   "name": "python3"
  }
 },
 "nbformat": 4,
 "nbformat_minor": 5
}
