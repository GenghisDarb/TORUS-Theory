{
 "cells": [
  {
   "cell_type": "code",
   "execution_count": null,
   "id": "922e9e10-4316-433b-8a0c-5c1dd0333267",
   "metadata": {
    "tags": [
     "TORUS-BOOTSTRAP-CELL"
    ]
   },
   "outputs": [],
   "source": [
    "# --- 🚀 TORUS universal imports / helpers ---\n",
    "import os, json, math, numpy as np, pandas as pd, matplotlib.pyplot as plt\n",
    "from scipy.stats import chi2, pearsonr\n",
    "from scipy.special import erfcinv\n",
    "np.random.seed(42)\n",
    "\n",
    "# Safe σ helper – never let σ==0 blow up χ²\n",
    "def safe_sigma(sig, floor=1e-12):\n",
    "    sig = np.asarray(sig, dtype=float)\n",
    "    bad = sig < floor\n",
    "    if bad.any():\n",
    "        print(f'[boot] σ floor applied to {bad.sum()} cells')\n",
    "        sig[bad] = floor\n",
    "    return sig\n"
   ]
  },
  {
   "cell_type": "markdown",
   "id": "490a8869",
   "metadata": {},
   "source": [
    "# Validation B1 — High-Precision Constant Ladder Re-Test"
   ]
  },
  {
   "cell_type": "code",
   "execution_count": null,
   "id": "91298823",
   "metadata": {},
   "outputs": [],
   "source": [
    "\n",
    "     import mpmath, matplotlib.pyplot as plt\n",
    "     mpmath.mp.dps = 50\n",
    "     empirical = mpmath.matrix([\n",
    "         1/137.035999084, 1.054571817e-34, 6.67430e-11, 2.99792458e8,\n",
    "         1.380649e-23, 8.8541878128e-12, 1.25663706212e-6, 1.602176634e-19,\n",
    "         9.10938356e-31, 6.02214076e23, 6.62607015e-34, 1.1056e-52,\n",
    "         0.5772156649, 4.35e17\n",
    "     ])\n",
    "     log_emp = mpmath.matrix([mpmath.log10(x) for x in empirical])\n",
    "     deltas    = [log_emp[n+1] - log_emp[n] for n in range(13)]\n",
    "     mean_delta= mpmath.fsum(deltas)/13\n",
    "     predicted = mpmath.matrix([log_emp[0] + n*mean_delta for n in range(14)])\n",
    "     residuals = [log_emp[n]-predicted[n] for n in range(14)]\n",
    "     rms = mpmath.sqrt(mpmath.fsum([r**2 for r in residuals])/14)\n",
    "     print(f\"Mean Δ = {mean_delta}\")\n",
    "print(f\"RMS error = {rms}\")\n"
   ]
  }
 ],
 "metadata": {
  "kernelspec": {
   "display_name": "Python 3",
   "language": "python",
   "name": "python3"
  }
 },
 "nbformat": 4,
 "nbformat_minor": 5
}