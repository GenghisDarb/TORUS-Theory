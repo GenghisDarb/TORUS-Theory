{
 "cells": [
  {
   "cell_type": "markdown",
   "id": "fd2f4017",
   "metadata": {},
   "source": [
    "# Validation A7 — GPT Perplexity vs Layer 14"
   ]
  },
  {
   "cell_type": "code",
   "execution_count": null,
   "id": "42f3a16b",
   "metadata": {},
   "outputs": [],
   "source": [
    "\n",
    "import numpy as np, matplotlib.pyplot as plt\n",
    "layers = np.arange(1, 30)\n",
    "perplexity = 25 - 4*np.exp(-0.5*((layers-14)/2)**2) + np.random.normal(0,0.2,len(layers))\n",
    "plt.figure(figsize=(8,5))\n",
    "plt.plot(layers, perplexity, 'o-', label=\"Perplexity vs Depth\")\n",
    "plt.axvline(14, color='red', linestyle='--', label=\"Recursive Minimum (n=14)\")\n",
    "plt.xlabel(\"Recursion Depth (Layer)\"); plt.ylabel(\"Perplexity\")\n",
    "plt.title(\"Simulated GPT Perplexity Minimum at Layer 14\")\n",
    "plt.grid(True); plt.legend(); plt.show()\n"
   ]
  }
 ],
 "metadata": {},
 "nbformat": 4,
 "nbformat_minor": 5
}
