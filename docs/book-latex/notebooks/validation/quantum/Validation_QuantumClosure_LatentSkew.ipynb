{
 "cells": [
  {
   "cell_type": "code",
   "execution_count": null,
   "id": "0",
   "metadata": {
    "tags": [
     "TORUS-BOOTSTRAP-CELL"
    ]
   },
   "outputs": [],
   "source": [
    "# --- 🚀 TORUS universal imports / helpers ---\n",
    "import numpy as np\n",
    "import matplotlib.pyplot as plt\n",
    "np.random.seed(42)\n",
    "\n",
    "# Safe σ helper – never let σ==0 blow up χ²\n",
    "def safe_sigma(sig, floor=1e-12):\n",
    "    sig = np.asarray(sig, dtype=float)\n",
    "    bad = sig < floor\n",
    "    if bad.any():\n",
    "        print(f'[boot] σ floor applied to {bad.sum()} cells')\n",
    "        sig[bad] = floor\n",
    "    return sig\n"
   ]
  },
  {
   "cell_type": "markdown",
   "id": "1",
   "metadata": {},
   "source": [
    "# Validation A9 — Quantum Closure Latent Skew at Layer 14"
   ]
  },
  {
   "cell_type": "code",
   "execution_count": null,
   "id": "2",
   "metadata": {},
   "outputs": [],
   "source": [
    "\n",
    "import numpy as np\n",
    "layers   = np.arange(1, 30)\n",
    "skewness = 0.5*np.sin(2*np.pi*layers/14.0) + np.random.normal(0,0.05,len(layers))\n",
    "plt.figure(figsize=(8,4))\n",
    "plt.plot(layers, skewness, 'o-', label=\"Latent variable skew\")\n",
    "plt.axvline(14, color='red', linestyle='--', label=\"Expected closure\")\n",
    "plt.xlabel(\"Recursive Layer\"); plt.ylabel(\"Skewness (arb)\")\n",
    "plt.title(\"Simulated Quantum Closure Signal at Layer 14\")\n",
    "plt.grid(True); plt.legend(); plt.show()\n"
   ]
  }
 ],
 "metadata": {
  "kernelspec": {
   "display_name": "Python 3",
   "language": "python",
   "name": "python3"
  }
 },
 "nbformat": 4,
 "nbformat_minor": 5
}
