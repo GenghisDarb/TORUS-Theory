{
 "cells": [
  {
   "cell_type": "markdown",
   "id": "0",
   "metadata": {},
   "source": [
    "# Entropy Drift Analysis\n",
    "FFT & autocorrelation look for 1/14 modulation."
   ]
  },
  {
   "cell_type": "code",
   "execution_count": null,
   "id": "1",
   "metadata": {},
   "outputs": [],
   "source": [
    "\n",
    "import numpy as np, matplotlib.pyplot as plt, pandas as pd, scipy.signal as ss\n",
    "counts = pd.read_csv('entropy_counts.csv')['count'].values\n",
    "# autocorrelation\n",
    "ac = np.correlate(counts - counts.mean(), counts - counts.mean(), mode='full')\n",
    "ac = ac[len(ac)//2:]\n",
    "plt.plot(ac[:128]); plt.title('Autocorrelation'); plt.show()\n",
    "# FFT\n",
    "f = np.fft.rfft(counts)\n",
    "plt.semilogy(np.abs(f)); plt.title('FFT of byte counts'); plt.show()\n"
   ]
  },
  {
   "cell_type": "code",
   "execution_count": null,
   "id": "2",
   "metadata": {},
   "outputs": [],
   "source": [
    "import sys, subprocess, pkg_resources, json, importlib, os\n",
    "deps = [\"numpy\", \"pandas\", \"matplotlib\", \"scipy\"]\n",
    "for d in deps:\n",
    "    try:\n",
    "        importlib.import_module(d)\n",
    "    except ImportError:\n",
    "        print(f\"Installing {d} …\"); subprocess.check_call([sys.executable, \"-m\", \"pip\", \"install\", d, \"--quiet\"])\n",
    "print(\"✅  All deps ready — re-run the next cell.\")"
   ]
  },
  {
   "cell_type": "code",
   "execution_count": null,
   "id": "3",
   "metadata": {},
   "outputs": [],
   "source": [
    "import numpy as np, matplotlib.pyplot as plt, pandas as pd, scipy.signal as ss\n",
    "counts = pd.read_csv('entropy_counts.csv')['count'].values\n",
    "# autocorrelation\n",
    "ac = np.correlate(counts - counts.mean(), counts - counts.mean(), mode='full')\n",
    "ac = ac[len(ac)//2:]\n",
    "plt.plot(ac[:128]); plt.title('Autocorrelation'); plt.show()\n",
    "# FFT\n",
    "f = np.fft.rfft(counts)\n",
    "plt.semilogy(np.abs(f)); plt.title('FFT of byte counts'); plt.show()"
   ]
  },
  {
   "cell_type": "code",
   "execution_count": null,
   "id": "4",
   "metadata": {},
   "outputs": [],
   "source": []
  },
  {
   "cell_type": "code",
   "execution_count": null,
   "id": "5",
   "metadata": {},
   "outputs": [],
   "source": [
    "import numpy as np, matplotlib.pyplot as plt, pandas as pd, scipy.signal as ss\n",
    "counts = pd.read_csv('entropy_counts.csv')['count'].values\n",
    "# autocorrelation\n",
    "ac = np.correlate(counts - counts.mean(), counts - counts.mean(), mode='full')\n",
    "ac = ac[len(ac)//2:]\n",
    "plt.plot(ac[:128]); plt.title('Autocorrelation'); plt.show()\n",
    "# FFT\n",
    "f = np.fft.rfft(counts)\n",
    "plt.semilogy(np.abs(f)); plt.title('FFT of byte counts'); plt.show()"
   ]
  },
  {
   "cell_type": "code",
   "execution_count": null,
   "id": "6",
   "metadata": {},
   "outputs": [],
   "source": [
    "import os, pathlib, sys\n",
    "print(\"📂 working directory:\", pathlib.Path(\".\").resolve())\n",
    "print(\"🗂  listing:\", os.listdir())"
   ]
  },
  {
   "cell_type": "code",
   "execution_count": null,
   "id": "7",
   "metadata": {},
   "outputs": [],
   "source": [
    "cd C:\\Users\\thisb\n",
    "python entropy_drift.py --bytes 1000000"
   ]
  },
  {
   "cell_type": "code",
   "execution_count": null,
   "id": "8",
   "metadata": {},
   "outputs": [],
   "source": [
    "import numpy as np, matplotlib.pyplot as plt, pandas as pd, scipy.signal as ss\n",
    "counts = pd.read_csv('entropy_counts.csv')['count'].values\n",
    "# autocorrelation\n",
    "ac = np.correlate(counts - counts.mean(), counts - counts.mean(), mode='full')\n",
    "ac = ac[len(ac)//2:]\n",
    "plt.plot(ac[:128]); plt.title('Autocorrelation'); plt.show()\n",
    "# FFT\n",
    "f = np.fft.rfft(counts)\n",
    "plt.semilogy(np.abs(f)); plt.title('FFT of byte counts'); plt.show()"
   ]
  },
  {
   "cell_type": "code",
   "execution_count": null,
   "id": "9",
   "metadata": {},
   "outputs": [],
   "source": [
    "import numpy as np, matplotlib.pyplot as plt, pandas as pd, scipy.signal as ss\n",
    "counts = pd.read_csv('entropy_counts.csv')['count'].values\n",
    "# autocorrelation\n",
    "ac = np.correlate(counts - counts.mean(), counts - counts.mean(), mode='full')\n",
    "ac = ac[len(ac)//2:]\n",
    "plt.plot(ac[:128]); plt.title('Autocorrelation'); plt.show()\n",
    "# FFT\n",
    "f = np.fft.rfft(counts)\n",
    "plt.semilogy(np.abs(f)); plt.title('FFT of byte counts'); plt.show()"
   ]
  },
  {
   "cell_type": "code",
   "execution_count": null,
   "id": "10",
   "metadata": {},
   "outputs": [],
   "source": [
    "import numpy as np, matplotlib.pyplot as plt, pandas as pd, scipy.signal as ss\n",
    "counts = pd.read_csv('entropy_counts.csv')['count'].values\n",
    "# autocorrelation\n",
    "ac = np.correlate(counts - counts.mean(), counts - counts.mean(), mode='full')\n",
    "ac = ac[len(ac)//2:]\n",
    "plt.plot(ac[:128]); plt.title('Autocorrelation'); plt.show()\n",
    "# FFT\n",
    "f = np.fft.rfft(counts)\n",
    "plt.semilogy(np.abs(f)); plt.title('FFT of byte counts'); plt.show()"
   ]
  },
  {
   "cell_type": "code",
   "execution_count": null,
   "id": "11",
   "metadata": {},
   "outputs": [],
   "source": []
  }
 ],
 "metadata": {
  "kernelspec": {
   "display_name": "Python 3 (ipykernel)",
   "language": "python",
   "name": "python3"
  },
  "language_info": {
   "codemirror_mode": {
    "name": "ipython",
    "version": 3
   },
   "file_extension": ".py",
   "mimetype": "text/x-python",
   "name": "python",
   "nbconvert_exporter": "python",
   "pygments_lexer": "ipython3",
   "version": "3.13.3"
  }
 },
 "nbformat": 4,
 "nbformat_minor": 5
}
