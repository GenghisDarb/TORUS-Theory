{
 "cells": [
  {
   "cell_type": "markdown",
   "id": "88a1ae59",
   "metadata": {},
   "source": [
    "# TORUS Theory Guided Tour Notebook\n",
    "Welcome to the TORUS Theory repository! This notebook provides a guided tour of the repository, highlighting key sections and validation notebooks.\n",
    "---\n",
    "## Table of Contents\n",
    "1. [Validation Notebooks](#validation-notebooks)\n",
    "2. [Data Assets](#data-assets)\n",
    "3. [Documentation](#documentation)\n",
    "4. [CLI Tools](#cli-tools)\n",
    "---\n",
    "### Instructions\n",
    "Click on any section above to jump to the corresponding part of the repository."
   ]
  }
 ],
 "metadata": {
  "language_info": {
   "name": "python"
  }
 },
 "nbformat": 4,
 "nbformat_minor": 5
}
