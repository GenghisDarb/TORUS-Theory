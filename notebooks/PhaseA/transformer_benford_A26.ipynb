{
  "nbformat": 4,
  "nbformat_minor": 0,
  "metadata": {
    "colab": {
      "provenance": []
    },
    "kernelspec": {
      "name": "python3",
      "display_name": "Python 3"
    },
    "language_info": {
      "name": "python"
    }
  },
  "cells": [
    {
      "cell_type": "code",
      "source": [
        "pip install --quiet torch==2.6.0 torchvision==0.21.0 einops scipy"
      ],
      "metadata": {
        "id": "6_yPZT3HwQ0r"
      },
      "execution_count": null,
      "outputs": []
    },
    {
      "cell_type": "code",
      "source": [
        "#!/usr/bin/env python3\n",
        "\"\"\"\n",
        "torus_transformer_mnist.py\n",
        "14-layer residual Transformer – TORUS observer-mute test (MNIST 10 k subset)\n",
        "Outputs drift_summary.json with χ² Benford divergence.\n",
        "\"\"\"\n",
        "\n",
        "import torch, torch.nn as nn, torch.optim as optim, torchvision as tv\n",
        "from itertools import product; import math, random, json\n",
        "from scipy.stats import chisquare\n",
        "\n",
        "# ---------- CONFIG ----------\n",
        "blocks   = 14\n",
        "width    = 128\n",
        "epochs   = 5            # 5 epochs over 10 k imgs ≈ 30 min CPU\n",
        "batch    = 128\n",
        "lr       = 1e-3\n",
        "seeds    = range(5)\n",
        "# -----------------------------\n",
        "\n",
        "# ----- data (10 k train subset) -----\n",
        "ds_all  = tv.datasets.MNIST(root=\".\", download=True, train=True,\n",
        "                            transform=tv.transforms.ToTensor())\n",
        "ds      = torch.utils.data.Subset(ds_all, range(10_000))\n",
        "loader  = torch.utils.data.DataLoader(ds, batch_size=batch,\n",
        "                                      shuffle=True, drop_last=True)\n",
        "\n",
        "def make_encoder():\n",
        "    enc_layer = nn.TransformerEncoderLayer(\n",
        "        d_model=width, nhead=4, dim_feedforward=256,\n",
        "        dropout=0.1, batch_first=True)\n",
        "    return nn.TransformerEncoder(enc_layer, num_layers=blocks)\n",
        "\n",
        "device  = \"cpu\"\n",
        "summary = {\"live\": [], \"mute\": []}\n",
        "\n",
        "for mute in (False, True):\n",
        "    label = \"mute\" if mute else \"live\"\n",
        "    for seed in seeds:\n",
        "        torch.manual_seed(seed); random.seed(seed)\n",
        "        net   = make_encoder().to(device)\n",
        "        read  = nn.Linear(width, 10).to(device)\n",
        "        opt   = optim.SGD(list(net.parameters())+list(read.parameters()), lr=lr)\n",
        "        loss_fn = nn.CrossEntropyLoss()\n",
        "        upd_norms = []\n",
        "\n",
        "        for ep in range(epochs):\n",
        "            for imgs, lbl in loader:\n",
        "                # flatten 28×28 into seq_len=28, width=128 via linear proj\n",
        "                imgs = imgs.view(batch, 28, 28)\n",
        "                proj = torch.randn(28, width)              # random static proj\n",
        "                seq  = imgs @ proj                         # shape (B, 28, 128)\n",
        "\n",
        "                opt.zero_grad(set_to_none=True)\n",
        "                enc = net(seq)\n",
        "\n",
        "                out = read(enc[:, -1])\n",
        "                loss = loss_fn(out, lbl)\n",
        "\n",
        "                loss.backward()\n",
        "                if mute:\n",
        "                    read.weight.grad.zero_()   # block update of last layer\n",
        "                    read.bias.grad.zero_()\n",
        "\n",
        "                opt.step()\n",
        "\n",
        "                # --- collect weight-update deltas (L2) for Benford ---\n",
        "                grads = [p.grad.flatten() for p in net.parameters()\n",
        "                         if p.grad is not None]\n",
        "                upd   = torch.cat(grads).norm().item()\n",
        "                upd_norms.append(upd)\n",
        "\n",
        "        # ------ Benford χ² divergence ------\n",
        "        sigs   = [int(f\"{u:.6e}\"[0]) for u in upd_norms if u > 0]\n",
        "        counts = [sigs.count(d) for d in range(1,10)]\n",
        "        exp    = [math.log10(1+1/d)*len(sigs) for d in range(1,10)]\n",
        "        chi2, _ = chisquare(counts, exp)\n",
        "        summary[label].append(chi2)\n",
        "        print(f\"{label} seed {seed}: χ² = {chi2:7.2f}\")\n",
        "\n",
        "print(\"\\nMean χ²  ->\", {k: sum(v)/len(v) for k,v in summary.items()})\n",
        "json.dump(summary, open(\"drift_summary.json\",\"w\"))\n",
        "print(\"Saved drift_summary.json\")"
      ],
      "metadata": {
        "colab": {
          "base_uri": "https://localhost:8080/"
        },
        "id": "AI8Yd9HNwQ4u",
        "outputId": "09bd08ed-085d-40ee-beb1-a0f665a44ce6"
      },
      "execution_count": null,
      "outputs": [
        {
          "output_type": "stream",
          "name": "stderr",
          "text": [
            "100%|██████████| 9.91M/9.91M [00:00<00:00, 42.0MB/s]\n",
            "100%|██████████| 28.9k/28.9k [00:00<00:00, 1.17MB/s]\n",
            "100%|██████████| 1.65M/1.65M [00:00<00:00, 8.42MB/s]\n",
            "100%|██████████| 4.54k/4.54k [00:00<00:00, 4.92MB/s]\n"
          ]
        },
        {
          "output_type": "stream",
          "name": "stdout",
          "text": [
            "live seed 0: χ² =  513.23\n",
            "live seed 1: χ² =  395.30\n",
            "live seed 2: χ² =  571.49\n",
            "live seed 3: χ² =  565.09\n",
            "live seed 4: χ² =  401.35\n",
            "mute seed 0: χ² =  431.36\n",
            "mute seed 1: χ² =  405.14\n",
            "mute seed 2: χ² =  588.06\n",
            "mute seed 3: χ² =  560.59\n",
            "mute seed 4: χ² =  343.18\n",
            "\n",
            "Mean χ²  -> {'live': np.float64(489.2911303828888), 'mute': np.float64(465.66543603841166)}\n",
            "Saved drift_summary.json\n"
          ]
        }
      ]
    }
  ]
}