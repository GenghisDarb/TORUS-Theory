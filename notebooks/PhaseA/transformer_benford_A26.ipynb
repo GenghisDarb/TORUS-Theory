{
 "cells": [
  {
   "cell_type": "code",
   "execution_count": null,
   "id": "0",
   "metadata": {
    "tags": [
     "TORUS-BOOTSTRAP-CELL"
    ]
   },
   "outputs": [],
   "source": [
    "# --- 🚀 TORUS universal imports / helpers ---\n",
    "import json\n",
    "import math\n",
    "import numpy as np\n",
    "from scipy.stats import chi2\n",
    "np.random.seed(42)\n",
    "\n",
    "# Safe σ helper – never let σ==0 blow up χ²\n",
    "def safe_sigma(sig, floor=1e-12):\n",
    "    sig = np.asarray(sig, dtype=float)\n",
    "    bad = sig < floor\n",
    "    if bad.any():\n",
    "        print(f'[boot] σ floor applied to {bad.sum()} cells')\n",
    "        sig[bad] = floor\n",
    "    return sig\n"
   ]
  },
  {
   "cell_type": "code",
   "execution_count": null,
   "metadata": {
    "id": "6_yPZT3HwQ0r"
   },
   "outputs": [],
   "source": [
    "pip install --quiet torch==2.6.0 torchvision==0.21.0 einops scipy"
   ]
  },
  {
   "cell_type": "code",
   "execution_count": null,
   "metadata": {
    "colab": {
     "base_uri": "https://localhost:8080/"
    },
    "id": "AI8Yd9HNwQ4u",
    "outputId": "09bd08ed-085d-40ee-beb1-a0f665a44ce6"
   },
   "outputs": [],
   "source": [
    "#!/usr/bin/env python3\n",
    "\"\"\"\n",
    "torus_transformer_mnist.py\n",
    "14-layer residual Transformer – TORUS observer-mute test (MNIST 10 k subset)\n",
    "Outputs drift_summary.json with χ² Benford divergence.\n",
    "\"\"\"\n",
    "\n",
    "import torch\n",
    "import torch.nn as nn\n",
    "import torch.optim as optim\n",
    "import torchvision as tv\n",
    "import random\n",
    "from scipy.stats import chisquare\n",
    "\n",
    "# ---------- CONFIG ----------\n",
    "blocks   = 14\n",
    "width    = 128\n",
    "epochs   = 5            # 5 epochs over 10 k imgs ≈ 30 min CPU\n",
    "batch    = 128\n",
    "lr       = 1e-3\n",
    "seeds    = range(5)\n",
    "# -----------------------------\n",
    "\n",
    "# ----- data (10 k train subset) -----\n",
    "ds_all  = tv.datasets.MNIST(root=\".\", download=True, train=True,\n",
    "                            transform=tv.transforms.ToTensor())\n",
    "ds      = torch.utils.data.Subset(ds_all, range(10_000))\n",
    "loader  = torch.utils.data.DataLoader(ds, batch_size=batch,\n",
    "                                      shuffle=True, drop_last=True)\n",
    "\n",
    "def make_encoder():\n",
    "    enc_layer = nn.TransformerEncoderLayer(\n",
    "        d_model=width, nhead=4, dim_feedforward=256,\n",
    "        dropout=0.1, batch_first=True)\n",
    "    return nn.TransformerEncoder(enc_layer, num_layers=blocks)\n",
    "\n",
    "device  = \"cpu\"\n",
    "summary = {\"live\": [], \"mute\": []}\n",
    "\n",
    "for mute in (False, True):\n",
    "    label = \"mute\" if mute else \"live\"\n",
    "    for seed in seeds:\n",
    "        torch.manual_seed(seed); random.seed(seed)\n",
    "        net   = make_encoder().to(device)\n",
    "        read  = nn.Linear(width, 10).to(device)\n",
    "        opt   = optim.SGD(list(net.parameters())+list(read.parameters()), lr=lr)\n",
    "        loss_fn = nn.CrossEntropyLoss()\n",
    "        upd_norms = []\n",
    "\n",
    "        for ep in range(epochs):\n",
    "            for imgs, lbl in loader:\n",
    "                # flatten 28×28 into seq_len=28, width=128 via linear proj\n",
    "                imgs = imgs.view(batch, 28, 28)\n",
    "                proj = torch.randn(28, width)              # random static proj\n",
    "                seq  = imgs @ proj                         # shape (B, 28, 128)\n",
    "\n",
    "                opt.zero_grad(set_to_none=True)\n",
    "                enc = net(seq)\n",
    "\n",
    "                out = read(enc[:, -1])\n",
    "                loss = loss_fn(out, lbl)\n",
    "\n",
    "                loss.backward()\n",
    "                if mute:\n",
    "                    read.weight.grad.zero_()   # block update of last layer\n",
    "                    read.bias.grad.zero_()\n",
    "\n",
    "                opt.step()\n",
    "\n",
    "                # --- collect weight-update deltas (L2) for Benford ---\n",
    "                grads = [p.grad.flatten() for p in net.parameters()\n",
    "                         if p.grad is not None]\n",
    "                upd   = torch.cat(grads).norm().item()\n",
    "                upd_norms.append(upd)\n",
    "\n",
    "        # ------ Benford χ² divergence ------\n",
    "        sigs   = [int(f\"{u:.6e}\"[0]) for u in upd_norms if u > 0]\n",
    "        counts = [sigs.count(d) for d in range(1,10)]\n",
    "        exp    = [math.log10(1+1/d)*len(sigs) for d in range(1,10)]\n",
    "        chi2, _ = chisquare(counts, exp)\n",
    "        summary[label].append(chi2)\n",
    "        print(f\"{label} seed {seed}: χ² = {chi2:7.2f}\")\n",
    "\n",
    "print(\"\\nMean χ²  ->\", {k: sum(v)/len(v) for k,v in summary.items()})\n",
    "json.dump(summary, open(\"drift_summary.json\",\"w\"))\n",
    "print(\"Saved drift_summary.json\")"
   ]
  }
 ],
 "metadata": {
  "colab": {
   "provenance": []
  },
  "kernelspec": {
   "display_name": "Python 3",
   "name": "python3"
  },
  "language_info": {
   "name": "python"
  }
 },
 "nbformat": 4,
 "nbformat_minor": 0
}
