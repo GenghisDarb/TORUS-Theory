{
 "cells": [
  {
   "cell_type": "markdown",
   "id": "b7f0ff43",
   "metadata": {},
   "source": [
    "# Talbot Carpet Raw Loader (B4)\n",
    "Downloads the Zenodo archive `10.5281/zenodo.14002229`, extracts the HDF5/TIFF files,\n",
    "re-averages the intensity stack, and reproduces the FFT z-slice with ±1⁄14 peaks."
   ]
  },
  {
   "cell_type": "code",
   "execution_count": null,
   "id": "3c758938",
   "metadata": {},
   "outputs": [],
   "source": [
    "import requests, tarfile, io, os, numpy as np, h5py, matplotlib.pyplot as plt\n",
    "doi = \"10.5281/zenodo.14002229\"\n",
    "# ▼ user fills in downloading & analysis code here ▼"
   ]
  }
 ],
 "metadata": {
  "language_info": {
   "name": "python"
  }
 },
 "nbformat": 4,
 "nbformat_minor": 5
}
