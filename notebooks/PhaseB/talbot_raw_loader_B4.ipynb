{
 "cells": [
  {
   "cell_type": "markdown",
   "id": "b7f0ff43",
   "metadata": {},
   "source": [
    "# Talbot Carpet Raw Loader (B4)\n",
    "Downloads the Zenodo archive `10.5281/zenodo.14002229`, extracts the HDF5/TIFF files,\n",
    "re-averages the intensity stack, and reproduces the FFT z-slice with ±1⁄14 peaks."
   ]
  },
  {
   "cell_type": "markdown",
   "id": "b1ef2f07",
   "metadata": {},
   "source": [
    "## About the Talbot Raw Dataset\n",
    "This notebook demonstrates how to download, extract, and process the Talbot carpet raw dataset from Zenodo (DOI: 10.5281/zenodo.14002229). The dataset contains intensity stacks in HDF5 format and TIFF images for optical analysis."
   ]
  },
  {
   "cell_type": "code",
   "execution_count": null,
   "id": "3c758938",
   "metadata": {},
   "outputs": [],
   "source": [
    "import requests, zipfile, io, numpy as np, h5py, matplotlib.pyplot as plt\n",
    "import imageio.v3 as iio\n",
    "\n",
    "# download Zenodo zip (≈80 MB) to memory\n",
    "url = \"https://zenodo.org/record/14002229/files/talbot_raw.zip?download=1\"\n",
    "raw = io.BytesIO(requests.get(url, timeout=60).content)\n",
    "zipfile.ZipFile(raw).extractall(\"/tmp/talbot\")\n",
    "\n",
    "# load intensity H5 stack and average\n",
    "with h5py.File(\"/tmp/talbot/fixed_order_intense.h5\", \"r\") as h5:\n",
    "    stack = h5[\"intensity\"][:]\n",
    "avg = stack.mean(axis=0)\n",
    "\n",
    "# FFT z-slice\n",
    "fft = np.log(np.abs(np.fft.fftshift(np.fft.fft2(avg))))\n",
    "zslice = fft[fft.shape[0]//2, :]\n",
    "plt.plot(zslice); plt.title(\"FFT z-slice\"); plt.show()"
   ]
  },
  {
   "cell_type": "code",
   "execution_count": null,
   "id": "5fd4a977",
   "metadata": {},
   "outputs": [],
   "source": [
    "# Check extracted files and show available data\n",
    "import os\n",
    "for fname in os.listdir(\"/tmp/talbot\"):\n",
    "    print(fname)"
   ]
  },
  {
   "cell_type": "markdown",
   "id": "8a84759b",
   "metadata": {},
   "source": [
    "## Visualize a Sample TIFF Image\n",
    "The dataset also includes TIFF images. Let's display one as an example."
   ]
  },
  {
   "cell_type": "code",
   "execution_count": null,
   "id": "cec29b29",
   "metadata": {},
   "outputs": [],
   "source": [
    "# Display a sample TIFF image from the dataset\n",
    "import matplotlib.pyplot as plt\n",
    "import imageio.v3 as iio\n",
    "\n",
    "tiff_path = \"/tmp/talbot/fixed_order_0000.tif\"\n",
    "img = iio.imread(tiff_path)\n",
    "plt.imshow(img, cmap=\"gray\")\n",
    "plt.title(\"Sample Talbot TIFF Image\")\n",
    "plt.axis(\"off\")\n",
    "plt.show()"
   ]
  },
  {
   "cell_type": "markdown",
   "id": "12bb042a",
   "metadata": {},
   "source": [
    "## Notes\n",
    "- The HDF5 stack is averaged along the z-axis to produce a 2D intensity map.\n",
    "- The FFT z-slice visualizes spatial frequency content, revealing the ±1⁄14 peaks characteristic of the Talbot effect.\n",
    "- For more details, see the dataset's README and Zenodo page."
   ]
  },
  {
   "cell_type": "markdown",
   "id": "4463b749",
   "metadata": {},
   "source": [
    "### Troubleshooting LaTeX Unicode Errors\n",
    "If you encounter LaTeX errors about Unicode characters (e.g., α, Λ, ħ, ≈, −, ℓ), you can:\n",
    "- Replace Unicode symbols in your .tex files with LaTeX macros (e.g., `\\alpha`, `\\Lambda`, `\\hbar`, `\\approx`, `\\ell`, `-`).\n",
    "- Or, use XeLaTeX for Unicode support by running:\n",
    "\n",
    "    latexmk -xelatex -silent torus_book.tex\n",
    "\n",
    "This will allow LaTeX to process Unicode characters natively."
   ]
  },
  {
   "cell_type": "markdown",
   "id": "22ed4d20",
   "metadata": {},
   "source": [
    "### Resolving Git Submodule Path Errors\n",
    "If you see errors like:\n",
    "\n",
    "    fatal: No url found for submodule path 'data/interferometer/upstream/GWDetectorZoo' in .gitmodules\n",
    "\n",
    "it means a submodule is referenced but not defined. To remove the obsolete submodule, run:\n",
    "\n",
    "    git submodule deinit -f data/interferometer/upstream/GWDetectorZoo\n",
    "    git rm -f data/interferometer/upstream/GWDetectorZoo\n",
    "    git commit -m \"Remove obsolete submodule GWDetectorZoo\"\n",
    "    git push\n",
    "\n",
    "If you need the submodule, add the correct entry to `.gitmodules` and initialize it with:\n",
    "\n",
    "    git submodule update --init --recursive"
   ]
  },
  {
   "cell_type": "markdown",
   "id": "7326d4ca",
   "metadata": {},
   "source": [
    "### Additional Notes\n",
    "- The script `scripts/audit_and_regen_docx.sh` exists but is currently empty. If needed, add your audit and regeneration logic to this file and ensure it is executable.\n",
    "- The script `scripts/convert_docx_to_tex.sh` is present and functional for DOCX to LaTeX conversion.\n",
    "- If you encounter further workflow or build issues, check the log files (e.g., `torus_book.log`) for details."
   ]
  }
 ],
 "metadata": {
  "language_info": {
   "name": "python"
  }
 },
 "nbformat": 4,
 "nbformat_minor": 5
}
