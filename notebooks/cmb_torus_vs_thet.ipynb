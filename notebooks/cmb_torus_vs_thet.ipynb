{
 "cells": [
  {
   "cell_type": "code",
   "execution_count": null,
   "id": "922e9e10-4316-433b-8a0c-5c1dd0333267",
   "metadata": {
    "tags": [
     "TORUS-BOOTSTRAP-CELL"
    ]
   },
   "outputs": [],
   "source": [
    "# --- 🚀 TORUS universal imports / helpers ---\n",
    "import os, json, math, numpy as np, pandas as pd, matplotlib.pyplot as plt\n",
    "from scipy.stats import chi2, pearsonr\n",
    "from scipy.special import erfcinv\n",
    "np.random.seed(42)\n",
    "\n",
    "# Safe σ helper – never let σ==0 blow up χ²\n",
    "def safe_sigma(sig, floor=1e-12):\n",
    "    sig = np.asarray(sig, dtype=float)\n",
    "    bad = sig < floor\n",
    "    if bad.any():\n",
    "        print(f'[boot] σ floor applied to {bad.sum()} cells')\n",
    "        sig[bad] = floor\n",
    "    return sig\n"
   ]
  },
  {
   "cell_type": "code",
   "execution_count": null,
   "id": "7ae31278",
   "metadata": {},
   "outputs": [],
   "source": [
    "# 1. Import Required Libraries and Functions\n",
    "import os\n",
    "import sys\n",
    "import urllib.request\n",
    "import numpy as np\n",
    "sys.path.insert(0, os.path.abspath(os.path.join(os.path.dirname(\"../scripts/entropic_spectrum.py\"), '.')))\n",
    "from entropic_spectrum import thet_tt\n",
    "\n",
    "# T-HET spectrum model as a function\n",
    "# (no file loading needed; use thet_tt directly)\n",
    "thet_model = lambda e: thet_tt(e)"
   ]
  },
  {
   "cell_type": "code",
   "execution_count": null,
   "id": "6075bd42",
   "metadata": {},
   "outputs": [],
   "source": [
    "# Ensure T-HET spectrum file exists\n",
    "def ensure_thet_spectrum():\n",
    "    import os, subprocess, sys, pathlib\n",
    "    spectrum_path = pathlib.Path(\"data/cmb/Cl_TT_T-HET_model.txt\")\n",
    "    if not spectrum_path.exists():\n",
    "        print(\"Spectrum file missing — generating via script…\")\n",
    "        subprocess.check_call([sys.executable, \"scripts/cmb_analysis_T-HET_vs_LCDM_adjusted_II.py\"])\n",
    "        assert spectrum_path.exists(), \"Spectrum generation failed!\"\n",
    "ensure_thet_spectrum()\n"
   ]
  },
  {
   "cell_type": "code",
   "execution_count": null,
   "id": "898b979f",
   "metadata": {},
   "outputs": [],
   "source": [
    "import os\n",
    "import urllib.request\n",
    "import numpy as np\n",
    "\n",
    "# 1. Sigma floor to avoid division by zero or infinity in chi2\n",
    "sigma = np.random.rand(100)  # This line is just for the sake of example. Remove or replace it with the actual sigma calculation.\n",
    "sigma_safe = np.where(sigma < 1e-12, 1e-12, sigma)\n",
    "if np.any(sigma < 1e-12):\n",
    "    print(\"Warning: Some sigma values were floored to 1e-12 to avoid division by zero or infinity.\")\n",
    "# Use sigma_safe in all chi2, residual, and stats calculations below (including helper functions)\n",
    "# Example: chi2 = np.sum((data - model)**2 / sigma_safe**2)\n",
    "# If you have helper functions, ensure they use sigma_safe instead of sigma\n",
    "\n",
    "# 2. Ensure Planck TT Data Availability\n",
    "planck_path = \"data/cmb/COM_PowerSpect_CMB-TT-full_R3.01.txt\"\n",
    "url = \"https://pla.esac.esa.int/pla-sl/data-action?COSMOLOGY.FILE_ID=COM_PowerSpect_CMB-TT-full_R3.01.txt\"\n",
    "if not os.path.exists(planck_path):\n",
    "    os.makedirs(os.path.dirname(planck_path), exist_ok=True)\n",
    "    print(f\"Downloading Planck TT data to {planck_path} ...\", end=\" \", flush=True)\n",
    "    def reporthook(blocknum, blocksize, totalsize):\n",
    "        downloaded = blocknum * blocksize\n",
    "        percent = min(100, int(downloaded * 100 / totalsize)) if totalsize > 0 else 0\n",
    "        print(f\"{percent}%\", end=\"\\r\", flush=True)\n",
    "    urllib.request.urlretrieve(url, planck_path, reporthook)\n",
    "    print(\"Download complete.\")\n",
    "else:\n",
    "    print(\"Planck TT data already present.\")"
   ]
  },
  {
   "cell_type": "code",
   "execution_count": null,
   "id": "1c7bef03",
   "metadata": {},
   "outputs": [],
   "source": [
    "# 3. Compute T-HET Model TT Spectrum\n",
    "ell_array = np.arange(2, 2508)\n",
    "Cl_TT_Thet = thet_tt(ell_array)\n"
   ]
  },
  {
   "cell_type": "code",
   "execution_count": null,
   "id": "b99860e3",
   "metadata": {},
   "outputs": [],
   "source": [
    "# 4. Export T-HET Model Spectrum to File\n",
    "output_path = \"data/cmb/Cl_TT_T-HET_model.txt\"\n",
    "if not os.path.exists(output_path):\n",
    "    os.makedirs(os.path.dirname(output_path), exist_ok=True)\n",
    "    np.savetxt(output_path, np.column_stack([ell_array, Cl_TT_Thet]))\n",
    "    print(f\"Saved T-HET spectrum to {output_path}\")\n",
    "else:\n",
    "    print(f\"T-HET spectrum already present at {output_path}\")\n"
   ]
  }
 ],
 "metadata": {
  "kernelspec": {
   "display_name": "Python 3",
   "language": "python",
   "name": "python3"
  },
  "language_info": {
   "name": "python"
  }
 },
 "nbformat": 4,
 "nbformat_minor": 5
}