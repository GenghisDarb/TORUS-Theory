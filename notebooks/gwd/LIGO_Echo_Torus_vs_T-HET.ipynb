{
 "cells": [
  {
   "cell_type": "code",
   "execution_count": null,
   "id": "0",
   "metadata": {},
   "outputs": [],
   "source": [
    "# --- 🚀 TORUS universal imports / helpers ---\n",
    "from torus_bootstrap import *  # universal imports & seed"
   ]
  },
  {
   "cell_type": "code",
   "execution_count": null,
   "id": "1",
   "metadata": {},
   "outputs": [],
   "source": [
    "# Ensure GW data file is present\n",
    "from scripts.fetch_gw import ensure_gw_file\n",
    "ensure_gw_file(\"GW150914_4KHZ.hdf5\")"
   ]
  },
  {
   "cell_type": "code",
   "execution_count": null,
   "id": "2",
   "metadata": {},
   "outputs": [],
   "source": [
    "# Compute torus_echo()\n",
    "import numpy as np, scipy.signal as sig\n",
    "\n",
    "def torus_echo(t, f0=150):          # χ-field model: 14-step comb\n",
    "    return np.sum([np.exp(-0.4*n)*np.sin(2*np.pi*(f0+n*f0/14)*t) for n in range(14)], axis=0)"
   ]
  },
  {
   "cell_type": "code",
   "execution_count": null,
   "id": "3",
   "metadata": {},
   "outputs": [],
   "source": [
    "# Compute thet_echo()\n",
    "def thet_echo(t, f0=150):           # vanilla parity-echo (single freq)\n",
    "    return 0.9*np.sin(2*np.pi*f0*t) * np.exp(-0.4*t)"
   ]
  },
  {
   "cell_type": "code",
   "execution_count": null,
   "id": "4",
   "metadata": {},
   "outputs": [],
   "source": [
    "# Compute gr_model()\n",
    "def gr_model(t, h):                 # pick best χ vs θ by χ²\n",
    "    χ2_torus = np.sum((h-torus_echo(t))**2)\n",
    "    χ2_thet  = np.sum((h-thet_echo(t))**2)\n",
    "    return \"TORUS-POSITIVE\" if χ2_torus < χ2_thet else \"T-HET wins\""
   ]
  },
  {
   "cell_type": "code",
   "execution_count": null,
   "id": "5",
   "metadata": {},
   "outputs": [],
   "source": [
    "# Verdict logic using gr_model\n",
    "verdict = gr_model(t, h_strain)\n",
    "print(f\"Verdict: {verdict}\")"
   ]
  }
 ],
 "metadata": {
  "language_info": {
   "name": "python"
  }
 },
 "nbformat": 4,
 "nbformat_minor": 5
}
