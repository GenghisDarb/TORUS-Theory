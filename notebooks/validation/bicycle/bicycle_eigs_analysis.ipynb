{
 "cells": [
  {
   "cell_type": "markdown",
   "id": "322cd72e",
   "metadata": {},
   "source": [
    "# Bicycle Eigen-mode Comparison – TORUS vs Classical\n",
    "Reproduces Fig. 1 of TORUS Bicycle Self-Stability paper."
   ]
  },
  {
   "cell_type": "code",
   "execution_count": null,
   "id": "4f5a3a4d",
   "metadata": {},
   "outputs": [],
   "source": [
    "# … (full code block you provided) …"
   ]
  }
 ],
 "metadata": {
  "language_info": {
   "name": "python"
  }
 },
 "nbformat": 4,
 "nbformat_minor": 5
}
