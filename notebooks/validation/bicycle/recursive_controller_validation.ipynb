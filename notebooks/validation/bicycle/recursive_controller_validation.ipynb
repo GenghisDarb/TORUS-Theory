{
 "cells": [
  {
   "cell_type": "markdown",
   "metadata": {},
   "source": [
    "# TORUS bicycle controller validation"
   ]
  },
  {
   "cell_type": "code",
   "execution_count": null,
   "metadata": {},
   "outputs": [],
   "source": [
    "# Bicycle Eigen-mode Comparison – TORUS vs Classical\n",
    "import numpy as np\n",
    "import matplotlib.pyplot as plt\n",
    "\n",
    "# Geometry & matrices (Meijaard 2007, tuned)\n",
    "# ... (your full code block here, unchanged) ...\n",
    "\n",
    "plt.savefig('docs/figs/bicycle_eigs_torus_vs_classical.png', dpi=300)\n",
    "plt.show()\n",
    "stable = np.all(eig_torus.real < 0, axis=1)\n",
    "print(\"TORUS-POSITIVE\" if stable.any() else \"TORUS-NEGATIVE\")"
   ]
  },
  {
   "cell_type": "code",
   "execution_count": null,
   "metadata": {},
   "outputs": [],
   "source": [
    "# --- helper for Pylance ---\n",
    "try:\n",
    "    from torus_utils.linear import eig_torus  # real module (Phase C)\n",
    "except ImportError:  # stub so Pylance/myPy don’t scream\n",
    "    from numpy.linalg import eig as eig_torus  # type: ignore  # noqa: F401\n",
    "\n",
    "import numpy.linalg as LA\n",
    "import numpy as np\n",
    "\n",
    "speeds = np.arange(0, 10.1, 0.1)  # 0 to 10 m/s in 0.1 m/s steps\n",
    "eig_torus = []\n",
    "eig_classical = []\n",
    "for v in speeds:\n",
    "    # Assemble state matrix A for speed v (including TORUS coupling for eig_torus, standard for eig_classical)\n",
    "    A_torus = build_state_matrix(v, torus=True)    # (Implement build_state_matrix accordingly)\n",
    "    A_classic = build_state_matrix(v, torus=False)\n",
    "    eig_torus.append(LA.eigvals(A_torus))\n",
    "    eig_classical.append(LA.eigvals(A_classic))\n",
    "eig_torus = np.array(eig_torus)\n",
    "eig_classical = np.array(eig_classical)"
   ]
  },
  {
   "cell_type": "code",
   "execution_count": null,
   "metadata": {},
   "outputs": [],
   "source": [
    "# --- helper for Pylance ---\n",
    "try:\n",
    "    from torus_utils.linear import eig_torus  # real module (Phase C)\n",
    "except ImportError:  # stub so Pylance/myPy don’t scream\n",
    "    from numpy.linalg import eig as eig_torus  # type: ignore  # noqa: F401"
   ]
  }
 ],
 "metadata": {
  "language_info": {
   "name": "python"
  }
 },
 "nbformat": 4,
 "nbformat_minor": 2
}
