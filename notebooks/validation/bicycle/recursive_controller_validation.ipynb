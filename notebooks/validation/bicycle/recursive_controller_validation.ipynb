{
 "cells": [
  {
   "cell_type": "markdown",
   "metadata": {},
   "source": [
    "# TORUS bicycle controller validation"
   ]
  },
  {
   "cell_type": "code",
   "execution_count": null,
   "metadata": {},
   "outputs": [],
   "source": [
    "# Bicycle Eigen-mode Comparison – TORUS vs Classical\n",
    "import numpy as np\n",
    "import matplotlib.pyplot as plt\n",
    "\n",
    "# Geometry & matrices (Meijaard 2007, tuned)\n",
    "# ... (your full code block here, unchanged) ...\n",
    "\n",
    "plt.savefig('docs/figs/bicycle_eigs_torus_vs_classical.png', dpi=300)\n",
    "plt.show()\n",
    "stable = np.all(eig_torus.real < 0, axis=1)\n",
    "print(\"TORUS-POSITIVE\" if stable.any() else \"TORUS-NEGATIVE\")"
   ]
  }
 ],
 "metadata": {
  "language_info": {
   "name": "python"
  }
 },
 "nbformat": 4,
 "nbformat_minor": 2
}
