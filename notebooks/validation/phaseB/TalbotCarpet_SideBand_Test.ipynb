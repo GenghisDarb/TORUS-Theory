{
 "cells": [
  {
   "cell_type": "code",
   "execution_count": null,
   "id": "922e9e10-4316-433b-8a0c-5c1dd0333267",
   "metadata": {
    "tags": [
     "TORUS-BOOTSTRAP-CELL"
    ]
   },
   "outputs": [],
   "source": [
    "# --- 🚀 TORUS universal imports / helpers ---\n",
    "import os, json, math, numpy as np, pandas as pd, matplotlib.pyplot as plt\n",
    "from scipy.stats import chi2, pearsonr\n",
    "from scipy.special import erfcinv\n",
    "np.random.seed(42)\n",
    "\n",
    "# Safe σ helper – never let σ==0 blow up χ²\n",
    "def safe_sigma(sig, floor=1e-12):\n",
    "    sig = np.asarray(sig, dtype=float)\n",
    "    bad = sig < floor\n",
    "    if bad.any():\n",
    "        print(f'[boot] σ floor applied to {bad.sum()} cells')\n",
    "        sig[bad] = floor\n",
    "    return sig\n"
   ]
  },
  {
   "cell_type": "markdown",
   "id": "941c9ddf",
   "metadata": {},
   "source": [
    "# Talbot-Carpet Side-Band Test Notebook\n",
    "_Auto-generated inside Codespace._\n"
   ]
  },
  {
   "cell_type": "code",
   "execution_count": null,
   "id": "bd59c0aa",
   "metadata": {},
   "outputs": [],
   "source": [
    "import numpy as np, pandas as pd, matplotlib.pyplot as plt\n",
    "from scipy.signal import savgol_filter, periodogram, hann\n",
    "url = 'https://zenodo.org/record/3382197/files/DND_TalbotCarpet_axialIntensity.csv'\n",
    "z, intensity = np.loadtxt(url, delimiter=',', unpack=True)\n",
    "detrended = intensity - savgol_filter(intensity, 31, 3)\n",
    "windowed  = detrended * hann(len(detrended))\n",
    "freqs, power = periodogram(windowed, scaling='spectrum')\n",
    "k0 = freqs[np.argmax(power)]\n",
    "k1 = k0 * (1+1/14)\n",
    "k1_idx = np.argmin(abs(freqs-k1))\n",
    "deltaP = 10*np.log10(power[k1_idx]/power[np.argmax(power)])\n",
    "plt.plot(freqs, 10*np.log10(power)); plt.axvline(k0); plt.axvline(k1)\n",
    "print('k0=',k0,' k1=',k1,' ΔP=',deltaP,'dB')\n",
    "if abs(k1-freqs[k1_idx])/k1<=.03 and -45<deltaP<-25:\n",
    "    print('TORUS-POSITIVE')\n",
    "else:\n",
    "    print('TORUS-NEGATIVE')\n"
   ]
  },
  {
   "cell_type": "code",
   "execution_count": null,
   "id": "bc9f452e",
   "metadata": {},
   "outputs": [],
   "source": [
    "from scripts.fetch_structured_light import ensure_h5\n",
    "ensure_h5(\"fixed_order_intense.h5\")\n",
    "ensure_h5(\"positive_l.h5\")\n"
   ]
  }
 ],
 "metadata": {
  "kernelspec": {
   "display_name": "Python 3",
   "language": "python",
   "name": "python3"
  }
 },
 "nbformat": 4,
 "nbformat_minor": 5
}