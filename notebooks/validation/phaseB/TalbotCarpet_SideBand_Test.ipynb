{
 "cells": [
  {
   "cell_type": "markdown",
   "id": "941c9ddf",
   "metadata": {},
   "source": [
    "# Talbot-Carpet Side-Band Test Notebook\n",
    "_Auto-generated inside Codespace._\n"
   ]
  },
  {
   "cell_type": "code",
   "execution_count": null,
   "id": "bd59c0aa",
   "metadata": {},
   "outputs": [],
   "source": [
    "import numpy as np, pandas as pd, matplotlib.pyplot as plt\n",
    "from scipy.signal import savgol_filter, periodogram, hann\n",
    "url = 'https://zenodo.org/record/3382197/files/DND_TalbotCarpet_axialIntensity.csv'\n",
    "z, intensity = np.loadtxt(url, delimiter=',', unpack=True)\n",
    "detrended = intensity - savgol_filter(intensity, 31, 3)\n",
    "windowed  = detrended * hann(len(detrended))\n",
    "freqs, power = periodogram(windowed, scaling='spectrum')\n",
    "k0 = freqs[np.argmax(power)]\n",
    "k1 = k0 * (1+1/14)\n",
    "k1_idx = np.argmin(abs(freqs-k1))\n",
    "deltaP = 10*np.log10(power[k1_idx]/power[np.argmax(power)])\n",
    "plt.plot(freqs, 10*np.log10(power)); plt.axvline(k0); plt.axvline(k1)\n",
    "print('k0=',k0,' k1=',k1,' ΔP=',deltaP,'dB')\n",
    "if abs(k1-freqs[k1_idx])/k1<=.03 and -45<deltaP<-25:\n",
    "    print('TORUS-POSITIVE')\n",
    "else:\n",
    "    print('TORUS-NEGATIVE')\n"
   ]
  }
 ],
 "metadata": {
  "kernelspec": {
   "display_name": "Python 3",
   "language": "python",
   "name": "python3"
  }
 },
 "nbformat": 4,
 "nbformat_minor": 5
}
