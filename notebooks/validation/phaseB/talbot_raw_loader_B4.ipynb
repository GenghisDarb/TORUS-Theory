{
 "cells": [
  {
   "cell_type": "code",
   "execution_count": null,
   "id": "0",
   "metadata": {
    "tags": [
     "TORUS-BOOTSTRAP-CELL"
    ]
   },
   "outputs": [],
   "source": [
    "# --- 🚀 TORUS universal imports / helpers ---\n",
    "import os, json, math, numpy as np, pandas as pd, matplotlib.pyplot as plt\n",
    "from scipy.stats import chi2, pearsonr\n",
    "from scipy.special import erfcinv\n",
    "np.random.seed(42)\n",
    "\n",
    "# Safe σ helper – never let σ==0 blow up χ²\n",
    "def safe_sigma(sig, floor=1e-12):\n",
    "    sig = np.asarray(sig, dtype=float)\n",
    "    bad = sig < floor\n",
    "    if bad.any():\n",
    "        print(f'[boot] σ floor applied to {bad.sum()} cells')\n",
    "        sig[bad] = floor\n",
    "    return sig\n"
   ]
  },
  {
   "cell_type": "markdown",
   "id": "1",
   "metadata": {},
   "source": [
    "# Permanent Solution for CI/CD Git and Submodule Errors\n",
    "\n",
    "If you are seeing repeated detached HEAD or submodule errors in your CI/CD pipeline, the root cause is usually that the workflow is checking out a tag (not a branch) or is trying to update a submodule that does not exist. To fix this for good:\n",
    "\n",
    "- Always configure your workflow to check out a branch (e.g., `main`) using:\n",
    "\n",
    "      uses: actions/checkout@v4\n",
    "      with:\n",
    "        ref: main\n",
    "        submodules: false\n",
    "        fetch-depth: 0\n",
    "\n",
    "- Never run the workflow on a tag or detached HEAD. Only trigger on branch pushes:\n",
    "\n",
    "      on:\n",
    "        push:\n",
    "          branches:\n",
    "            - main\n",
    "\n",
    "- Remove all submodule update steps if you do not use submodules.\n",
    "- Always commit and push to the branch (e.g., `main`).\n",
    "\n",
    "This will ensure your workflow is always on a branch, never in a detached HEAD, and never tries to update a non-existent submodule. If you see a submodule error in post-job cleanup, it is a harmless GitHub Actions runner bug and can be ignored."
   ]
  },
  {
   "cell_type": "markdown",
   "id": "2",
   "metadata": {},
   "source": [
    "# Talbot Carpet Raw Loader (B4)\n",
    "Downloads the Zenodo archive `10.5281/zenodo.14002229`, extracts the HDF5/TIFF files,\n",
    "re-averages the intensity stack, and reproduces the FFT z-slice with ±1⁄14 peaks."
   ]
  },
  {
   "cell_type": "markdown",
   "id": "3",
   "metadata": {},
   "source": [
    "## About the Talbot Raw Dataset\n",
    "This notebook demonstrates how to download, extract, and process the Talbot carpet raw dataset from Zenodo (DOI: 10.5281/zenodo.14002229). The dataset contains intensity stacks in HDF5 format and TIFF images for optical analysis."
   ]
  },
  {
   "cell_type": "code",
   "execution_count": null,
   "id": "4",
   "metadata": {},
   "outputs": [],
   "source": [
    "import requests, zipfile, io, numpy as np, h5py, matplotlib.pyplot as plt\n",
    "import imageio.v3 as iio\n",
    "\n",
    "# download Zenodo zip (≈80 MB) to memory\n",
    "url = \"https://zenodo.org/record/14002229/files/talbot_raw.zip?download=1\"\n",
    "raw = io.BytesIO(requests.get(url, timeout=60).content)\n",
    "zipfile.ZipFile(raw).extractall(\"/tmp/talbot\")\n",
    "\n",
    "# load intensity H5 stack and average\n",
    "with h5py.File(\"/tmp/talbot/fixed_order_intense.h5\", \"r\") as h5:\n",
    "    stack = h5[\"intensity\"][:]\n",
    "avg = stack.mean(axis=0)\n",
    "\n",
    "# FFT z-slice\n",
    "fft = np.log(np.abs(np.fft.fftshift(np.fft.fft2(avg))))\n",
    "zslice = fft[fft.shape[0]//2, :]\n",
    "plt.plot(zslice); plt.title(\"FFT z-slice\"); plt.show()"
   ]
  },
  {
   "cell_type": "code",
   "execution_count": null,
   "id": "5",
   "metadata": {},
   "outputs": [],
   "source": [
    "from scripts.fetch_structured_light import ensure_h5\n",
    "ensure_h5(\"fixed_order_intense.h5\")\n",
    "ensure_h5(\"positive_l.h5\")\n"
   ]
  },
  {
   "cell_type": "code",
   "execution_count": null,
   "id": "6",
   "metadata": {},
   "outputs": [],
   "source": [
    "from scripts.fetch_structured_light import ensure_h5\n",
    "ensure_h5(\"fixed_order_intense.h5\")\n",
    "ensure_h5(\"positive_l.h5\")\n"
   ]
  },
  {
   "cell_type": "code",
   "execution_count": null,
   "id": "7",
   "metadata": {},
   "outputs": [],
   "source": [
    "# Check extracted files and show available data\n",
    "import os\n",
    "for fname in os.listdir(\"/tmp/talbot\"):\n",
    "    print(fname)"
   ]
  },
  {
   "cell_type": "markdown",
   "id": "8",
   "metadata": {},
   "source": [
    "## Visualize a Sample TIFF Image\n",
    "The dataset also includes TIFF images. Let's display one as an example."
   ]
  },
  {
   "cell_type": "code",
   "execution_count": null,
   "id": "9",
   "metadata": {},
   "outputs": [],
   "source": [
    "# Display a sample TIFF image from the dataset\n",
    "import matplotlib.pyplot as plt\n",
    "import imageio.v3 as iio\n",
    "\n",
    "tiff_path = \"/tmp/talbot/fixed_order_0000.tif\"\n",
    "img = iio.imread(tiff_path)\n",
    "plt.imshow(img, cmap=\"gray\")\n",
    "plt.title(\"Sample Talbot TIFF Image\")\n",
    "plt.axis(\"off\")\n",
    "plt.show()"
   ]
  },
  {
   "cell_type": "markdown",
   "id": "10",
   "metadata": {},
   "source": [
    "## Notes\n",
    "- The HDF5 stack is averaged along the z-axis to produce a 2D intensity map.\n",
    "- The FFT z-slice visualizes spatial frequency content, revealing the ±1⁄14 peaks characteristic of the Talbot effect.\n",
    "- For more details, see the dataset's README and Zenodo page."
   ]
  },
  {
   "cell_type": "markdown",
   "id": "11",
   "metadata": {},
   "source": [
    "### Troubleshooting LaTeX Unicode Errors\n",
    "If you encounter LaTeX errors about Unicode characters (e.g., α, Λ, ħ, ≈, −, ℓ), you can:\n",
    "- Replace Unicode symbols in your .tex files with LaTeX macros (e.g., `\\alpha`, `\\Lambda`, `\\hbar`, `\\approx`, `\\ell`, `-`).\n",
    "- Or, use XeLaTeX for Unicode support by running:\n",
    "\n",
    "    latexmk -xelatex -silent torus_book.tex\n",
    "\n",
    "This will allow LaTeX to process Unicode characters natively."
   ]
  },
  {
   "cell_type": "markdown",
   "id": "12",
   "metadata": {},
   "source": [
    "### Resolving Git Submodule Path Errors\n",
    "If you see errors like:\n",
    "\n",
    "    fatal: No url found for submodule path 'data/interferometer/upstream/GWDetectorZoo' in .gitmodules\n",
    "\n",
    "it means a submodule is referenced but not defined. To remove the obsolete submodule, run:\n",
    "\n",
    "    git submodule deinit -f data/interferometer/upstream/GWDetectorZoo\n",
    "    git rm -f data/interferometer/upstream/GWDetectorZoo\n",
    "    git commit -m \"Remove obsolete submodule GWDetectorZoo\"\n",
    "    git push\n",
    "\n",
    "If you need the submodule, add the correct entry to `.gitmodules` and initialize it with:\n",
    "\n",
    "    git submodule update --init --recursive"
   ]
  },
  {
   "cell_type": "markdown",
   "id": "13",
   "metadata": {},
   "source": [
    "### Additional Notes\n",
    "- The script `scripts/audit_and_regen_docx.sh` exists but is currently empty. If needed, add your audit and regeneration logic to this file and ensure it is executable.\n",
    "- The script `scripts/convert_docx_to_tex.sh` is present and functional for DOCX to LaTeX conversion.\n",
    "- If you encounter further workflow or build issues, check the log files (e.g., `torus_book.log`) for details."
   ]
  },
  {
   "cell_type": "markdown",
   "id": "14",
   "metadata": {},
   "source": [
    "### Permanent CI/CD Fixes for Git and LaTeX Issues\n",
    "To ensure you never see the same errors again, update your CI workflow to:\n",
    "\n",
    "- Always run `git pull --rebase` before any `git push`.\n",
    "- Add these defensive steps before every commit/push:\n",
    "\n",
    "    git rm -rf --cached data/interferometer/upstream/GWDetectorZoo 2>/dev/null || true\n",
    "    rm -rf data/interferometer/upstream/GWDetectorZoo 2>/dev/null || true\n",
    "\n",
    "- For LaTeX Unicode errors, always use XeLaTeX:\n",
    "\n",
    "    latexmk -xelatex -silent torus_book.tex\n",
    "\n",
    "- If you control the CI, clear the runner cache/workspace before each job.\n",
    "\n",
    "These steps will prevent non-fast-forward push errors and submodule path errors, and ensure LaTeX builds succeed with Unicode content."
   ]
  }
 ],
 "metadata": {
  "kernelspec": {
   "display_name": "Python 3",
   "language": "python",
   "name": "python3"
  },
  "language_info": {
   "name": "python"
  }
 },
 "nbformat": 4,
 "nbformat_minor": 5
}
