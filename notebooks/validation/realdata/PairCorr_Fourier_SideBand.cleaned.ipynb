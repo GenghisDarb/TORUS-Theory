{
 "cells": [
  {
   "cell_type": "markdown",
   "id": "1be4867e",
   "metadata": {},
   "source": [
    "# PairCorr Fourier Side-Band (Real Data Template)\n",
    "Load a CSV of atom coordinates, bin to $g^{(2)}(r)$, compute FFT, highlight $k_0$ & $k_1$, print $\\Delta P$ and verdict."
    "# Pair-Correlation Side-Band Analysis\n",
    "Drop in any CSV of (x, y) particle positions and run all cells."
   ]
  },
  {
   "cell_type": "code",
   "execution_count": null,
   "id": "79f1f4ef",
   "metadata": {},
   "outputs": [],
   "source": [
    "import numpy as np\n",
    "import pandas as pd\n",
    "import matplotlib.pyplot as plt\n",
    "from scipy.spatial.distance import pdist\n",
    "from scipy.signal import periodogram, hann\n",
    "from tkinter import Tk, filedialog\n",
    "\n",
    "np.random.seed(0)"
   ]
  },
  {
   "cell_type": "code",
   "execution_count": null,
   "id": "2d4f0d46",
   "metadata": {},
   "outputs": [],
   "source": [
    "# GUI file chooser\n",
    "Tk().withdraw()\n",
    "filepath = filedialog.askopenfilename(title=\"Select CSV file with x,y coordinates\")\n",
    "\n",
    "# Load (x, y) positions\n",
    "data = pd.read_csv(filepath, header=None)\n",
    "x, y = data.iloc[:,0].values, data.iloc[:,1].values\n",
    "N = len(x)\n",
    "print(f\"Loaded {N} particles.\")"
   ]
  },
  {
   "cell_type": "code",
   "execution_count": null,
   "id": "fc597160",
   "metadata": {},
   "outputs": [],
   "source": [
    "# Compute g²(r)\n",
    "r = pdist(np.column_stack([x, y]))\n",
    "L = max(x.max()-x.min(), y.max()-y.min())\n",
    "bins = np.linspace(0, L/2, 150)\n",
    "g2, _ = np.histogram(r, bins=bins)\n",
    "r_centers = 0.5 * (bins[:-1] + bins[1:])"
   ]
  },
  {
   "cell_type": "code",
   "execution_count": null,
   "id": "efa0f696",
   "metadata": {},
   "outputs": [],
   "source": [
    "# FFT of g²(r)\n",
    "window = hann(len(g2))\n",
    "g2_windowed = g2 * window\n",
    "\n",
    "freqs, power = periodogram(g2_windowed)\n",
    "power_db = 10 * np.log10(power + 1e-10)"
   ]
  },
  {
   "cell_type": "code",
   "execution_count": null,
   "id": "eba3a33b",
   "metadata": {},
   "outputs": [],
   "source": [
    "# Detect k₀, compute k₁, ΔP, verdict\n",
    "k0_idx = np.argmax(power)\n",
    "k0 = freqs[k0_idx]\n",
    "k1 = k0 * (1 + 1/14)\n",
    "k1_idx = np.argmin(np.abs(freqs - k1))\n",
    "deltaP = power_db[k1_idx] - power_db[k0_idx]\n",
    "\n",
    "print(f\"k₀ = {k0:.4f}, k₁ = {k1:.4f}, ΔP = {deltaP:.2f} dB\")\n",
    "\n",
    "if abs(freqs[k1_idx] - k1)/k1 < 0.03 and -45 < deltaP < -25:\n",
    "    print(\"TORUS-POSITIVE\")\n",
    "else:\n",
    "    print(\"TORUS-NEGATIVE\")"
   ]
  },
  {
   "cell_type": "code",
   "execution_count": null,
   "id": "2ae455a5",
   "metadata": {},
   "outputs": [],
   "source": [
    "# Plot spectrum\n",
    "plt.figure(figsize=(10, 5))\n",
    "plt.plot(freqs, power_db, label='Power Spectrum')\n",
    "plt.axvline(k0, color='red', linestyle='--', label='k₀')\n",
    "plt.axvline(k1, color='blue', linestyle='--', label='k₁ = 1.071·k₀')\n",
    "plt.xlabel(\"Spatial Frequency k\")\n",
    "plt.ylabel(\"Power (dB)\")\n",
    "plt.title(\"Fourier Spectrum of g²(r)\")\n",
    "plt.legend(); plt.grid(True); plt.show()"
   ]
  }
 ],
 "metadata": {
  "language_info": {
   "name": "python"
  }
 },
 "nbformat": 4,
 "nbformat_minor": 5
}
