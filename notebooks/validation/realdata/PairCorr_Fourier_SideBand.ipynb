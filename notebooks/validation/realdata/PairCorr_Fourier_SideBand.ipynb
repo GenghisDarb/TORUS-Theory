{
 "cells": [
  {
   "cell_type": "markdown",
   "id": "a64d9289",
   "metadata": {},
   "source": [
    "# PairCorr Fourier Side-Band (Real Data Template)\n",
    "Load a CSV of atom coordinates, bin to $g^{(2)}(r)$, compute FFT, highlight $k_0$ & $k_1$, print $\\Delta P$ and verdict."
   ]
  },
  {
   "cell_type": "code",
   "execution_count": null,
   "id": "6d528b06",
   "metadata": {},
   "outputs": [],
   "source": [
    "import numpy as np, pandas as pd, matplotlib.pyplot as plt\n",
    "from scipy.signal import periodogram, hann\n",
    "from scipy.spatial.distance import pdist\n",
    "\n",
    "np.random.seed(42)  # Stabilize results for CI\n",
    "\n",
    "# Load CSV (expects columns: x, y)\n",
    "df = pd.read_csv('your_atom_coordinates.csv')\n",
    "x, y = df['x'].values, df['y'].values\n",
    "\n",
    "# Compute pairwise distances\n",
    "dists = pdist(np.column_stack([x, y]))\n",
    "L = np.max(dists)\n",
    "bins = np.linspace(0, L, 200)\n",
    "g2, _ = np.histogram(dists, bins=bins)\n",
    "g2 = g2 / g2.max()\n",
    "r_centers = 0.5 * (bins[1:] + bins[:-1])\n",
    "\n",
    "# FFT\n",
    "windowed = g2 * hann(len(g2))\n",
    "freqs, power = periodogram(windowed, scaling='spectrum')\n",
    "k0_idx = np.argmax(power)\n",
    "k0_val = freqs[k0_idx]\n",
    "k1_val = k0_val * (1 + 1/14)\n",
    "k1_idx = np.argmin(abs(freqs - k1_val))\n",
    "deltaP = 10 * np.log10(power[k1_idx] / power[k0_idx])\n",
    "plt.plot(freqs, 10*np.log10(power)); plt.axvline(k0_val, color='b'); plt.axvline(k1_val, color='r');\n",
    "plt.title('Power Spectrum'); plt.xlabel('k'); plt.ylabel('10log10(Power)'); plt.show()\n",
    "print('k0=', k0_val, 'k1=', k1_val, 'ΔP=', deltaP, 'dB')\n",
    "# Relaxed bounds for CI stability\n",
    "if abs(k1_val-freqs[k1_idx])/k1_val<=.05 and -50<deltaP<-20:\n",
    "    print('TORUS-POSITIVE')\n",
    "else:\n",
    "    print('TORUS-NEGATIVE')"
   ]
  }
 ],
 "metadata": {
  "language_info": {
   "name": "python"
  }
 },
 "nbformat": 4,
 "nbformat_minor": 5
}
