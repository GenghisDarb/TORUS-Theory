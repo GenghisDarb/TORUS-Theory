{
 "cells": [
  {
   "cell_type": "markdown",
   "id": "0",
   "metadata": {},
   "source": [
    "**⚠️  This notebook is de-activated in CI – awaiting raw data from MIT (expected file: paircorr_raw_MIT.csv).**"
   ]
  },
  {
   "cell_type": "code",
   "execution_count": null,
   "id": "1",
   "metadata": {},
   "outputs": [],
   "source": [
    "import os, sys\n",
    "if os.getenv(\"CI\"):\n",
    "    raise SystemExit(\"Notebook skipped in CI – data pending.\")"
   ]
  },
  {
   "cell_type": "code",
   "execution_count": null,
   "id": "2",
   "metadata": {},
   "outputs": [],
   "source": [
    "import sys, os; sys.path.append(os.path.abspath(\"..\"))\n",
    "# --- 🚀 TORUS universal imports / helpers ---\n",
    "from torus_bootstrap import *  # universal imports & seed"
   ]
  }
 ],
 "metadata": {
  "language_info": {
   "name": "python"
  }
 },
 "nbformat": 4,
 "nbformat_minor": 5
}
