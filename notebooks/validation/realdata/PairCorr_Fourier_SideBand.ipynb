{
 "cells": [
  {
   "cell_type": "markdown",
   "id": "0",
   "metadata": {},
   "source": [
    "**⚠️  This notebook is de-activated in CI – awaiting raw data from MIT (expected file: paircorr_raw_MIT.csv).**"
   ]
  },
  {
   "cell_type": "code",
   "execution_count": null,
   "id": "1",
   "metadata": {},
   "outputs": [],
   "source": [
    "import os\n",
    "import sys\n",
    "if os.getenv(\"CI\"):\n",
    "    raise SystemExit(\"Notebook skipped in CI – data pending.\")"
   ]
  },
  {
   "cell_type": "code",
   "execution_count": null,
   "id": "2",
   "metadata": {},
   "outputs": [],
   "source": [
    "import os; sys.path.append(os.path.abspath(\"..\"))\n",
    "# --- 🚀 TORUS universal imports / helpers ---\n",
    "from torus_bootstrap import *  # universal imports & seed"
   ]
  },
  {
   "cell_type": "code",
   "execution_count": null,
   "id": "24ef076b",
   "metadata": {},
   "outputs": [],
   "source": [
    "# Import Required Libraries\n",
    "import numpy as np\n",
    "import pandas as pd\n",
    "import matplotlib.pyplot as plt\n",
    "from scipy.fft import fft, fftfreq\n",
    "\n",
    "# Load pair-correlation data\n",
    "pair_corr_data = pd.read_csv('../../data/realdata/paircorr_raw_MIT.csv')\n",
    "\n",
    "# Perform Fourier Transform\n",
    "signal = pair_corr_data['distance']\n",
    "fft_result = fft(signal)\n",
    "frequencies = fftfreq(len(signal), d=1.0)  # Assuming unit sampling interval\n",
    "\n",
    "# Plot FFT result\n",
    "plt.plot(frequencies, np.abs(fft_result))\n",
    "plt.title('Fourier Transform of Pair-Correlation Data')\n",
    "plt.xlabel('Frequency')\n",
    "plt.ylabel('Amplitude')\n",
    "plt.show()"
   ]
  }
 ],
 "metadata": {
  "language_info": {
   "name": "python"
  }
 },
 "nbformat": 4,
 "nbformat_minor": 5
}
