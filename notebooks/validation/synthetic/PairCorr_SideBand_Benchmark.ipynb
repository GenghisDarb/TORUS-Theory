{
 "cells": [
  {
   "cell_type": "markdown",
   "id": "b9f9821e",
   "metadata": {},
   "source": [
    "# PairCorr Side-Band Benchmark\n",
    "Synthetic test: injects a 7 % side-band at $k_1=k_0(1+1/14)$ and runs the TORUS detection pipeline."
   ]
  },
  {
   "cell_type": "code",
   "execution_count": null,
   "id": "59a4182c",
   "metadata": {},
   "outputs": [],
   "source": [
    "\n",
    "import numpy as np, matplotlib.pyplot as plt\n",
    "N, L = 1000, 100\n",
    "k0 = 2*np.pi/(L/10)\n",
    "k1 = k0*(1+1/14)\n",
    "amp1 = 0.07\n",
    "x = L*np.random.rand(N)\n",
    "y = L*np.random.rand(N) + amp1*np.sin(k1*x)\n"
   ]
  },
  {
   "cell_type": "code",
   "execution_count": null,
   "id": "c029f75b",
   "metadata": {},
   "outputs": [],
   "source": [
    "\n",
    "from scipy.spatial.distance import pdist\n",
    "dists = pdist(np.column_stack([x, y]))\n",
    "bins = np.linspace(0, L, 200)\n",
    "g2, _ = np.histogram(dists, bins=bins)\n",
    "g2 = g2 / g2.max()\n"
   ]
  },
  {
   "cell_type": "code",
   "execution_count": null,
   "id": "aefce842",
   "metadata": {},
   "outputs": [],
   "source": [
    "\n",
    "try:\n",
    "    from scipy.signal.windows import hann\n",
    "except ImportError:\n",
    "    try:\n",
    "        from scipy.signal import hann  # SciPy <1.2\n",
    "    except ImportError:\n",
    "        import numpy as np\n",
    "        def hann(N): return np.hanning(N)\n",
    "from scipy.signal import periodogram\n",
    "freqs, power = periodogram(g2 * hann(len(g2)), scaling='spectrum')\n"
   ]
  },
  {
   "cell_type": "code",
   "execution_count": null,
   "id": "92f33385",
   "metadata": {},
   "outputs": [],
   "source": [
    "\n",
    "k0_idx = np.argmax(power)\n",
    "k0_val = freqs[k0_idx]\n",
    "k1_val = k0_val*(1+1/14)\n",
    "k1_idx = np.argmin(abs(freqs - k1_val))\n",
    "deltaP = 10*np.log10(power[k1_idx]/power[k0_idx])\n",
    "print('k0 =', k0_val, 'k1 =', k1_val, 'ΔP =', deltaP, 'dB')\n",
    "if abs(k1_val-freqs[k1_idx])/k1_val <= .03 and -45 < deltaP < -25:\n",
    "    print('TORUS-POSITIVE')\n",
    "else:\n",
    "    print('TORUS-NEGATIVE')\n"
   ]
  }
 ],
 "metadata": {
  "kernelspec": {
   "display_name": "Python 3",
   "language": "python",
   "name": "python3"
  }
 },
 "nbformat": 4,
 "nbformat_minor": 5
}
