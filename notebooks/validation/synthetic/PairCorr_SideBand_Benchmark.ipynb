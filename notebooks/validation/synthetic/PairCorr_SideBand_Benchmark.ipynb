{
 "cells": [
  {
   "cell_type": "markdown",
   "id": "b249c07e",
   "metadata": {},
   "source": [
    "# PairCorr Side-Band Benchmark\n",
    "Synthetic test: injects a 7% side-band at $k_1 = k_0(1+1/14)$ and runs the TORUS detection pipeline."
   ]
  },
  {
   "cell_type": "code",
   "execution_count": null,
   "id": "c4dcbe1c",
   "metadata": {},
   "outputs": [],
   "source": [
    "# Cell 1: Imports & seed\n",
    "import numpy as np\n",
    "np.random.seed(42)\n",
    "import matplotlib.pyplot as plt\n",
    "from scipy.signal import periodogram, hann"
   ]
  },
  {
   "cell_type": "code",
   "execution_count": null,
   "id": "e8ffc4dd",
   "metadata": {},
   "outputs": [],
   "source": [
    "# Cell 2: Synthetic particle positions + 7% modulation\n",
    "N = 1000\n",
    "L = 100\n",
    "k0 = 2 * np.pi / (L / 10)\n",
    "k1 = k0 * (1 + 1/14)\n",
    "amp0 = 1.0\n",
    "amp1 = 0.07\n",
    "x = L * np.random.rand(N)\n",
    "y = L * np.random.rand(N)\n",
    "y += amp1 * np.sin(k1 * x)"
   ]
  },
  {
   "cell_type": "code",
   "execution_count": null,
   "id": "aa1adf77",
   "metadata": {},
   "outputs": [],
   "source": [
    "# Cell 3: g²(r) histogram\n",
    "from scipy.spatial.distance import pdist\n",
    "dists = pdist(np.column_stack([x, y]))\n",
    "bins = np.linspace(0, L, 200)\n",
    "g2, _ = np.histogram(dists, bins=bins)\n",
    "g2 = g2 / g2.max()\n",
    "r_centers = 0.5 * (bins[1:] + bins[:-1])"
   ]
  },
  {
   "cell_type": "code",
   "execution_count": null,
   "id": "891b9a55",
   "metadata": {},
   "outputs": [],
   "source": [
    "# Cell 4: Hann window + FFT\n",
    "windowed = g2 * hann(len(g2))\n",
    "freqs, power = periodogram(windowed, scaling='spectrum')"
   ]
  },
  {
   "cell_type": "code",
   "execution_count": null,
   "id": "8a81bdab",
   "metadata": {},
   "outputs": [],
   "source": [
    "# Cell 5: Identify k₀, k₁, ΔP, print verdict\n",
    "k0_idx = np.argmax(power)\n",
    "k0_val = freqs[k0_idx]\n",
    "k1_val = k0_val * (1 + 1/14)\n",
    "k1_idx = np.argmin(abs(freqs - k1_val))\n",
    "deltaP = 10 * np.log10(power[k1_idx] / power[k0_idx])\n",
    "print('k0=', k0_val, 'k1=', k1_val, 'ΔP=', deltaP, 'dB')\n",
    "if abs(k1_val-freqs[k1_idx])/k1_val<=.03 and -45<deltaP<-25:\n",
    "    print('TORUS-POSITIVE')\n",
    "else:\n",
    "    print('TORUS-NEGATIVE')"
   ]
  },
  {
   "cell_type": "code",
   "execution_count": null,
   "id": "1516aac7",
   "metadata": {},
   "outputs": [],
   "source": [
    "# Cell 6: Plot power spectrum\n",
    "plt.plot(freqs, 10*np.log10(power)); plt.axvline(k0_val, color='b'); plt.axvline(k1_val, color='r');\n",
    "plt.title('Power Spectrum'); plt.xlabel('k'); plt.ylabel('10log10(Power)'); plt.show()"
   ]
  }
 ],
 "metadata": {
  "language_info": {
   "name": "python"
  }
 },
 "nbformat": 4,
 "nbformat_minor": 5
}
