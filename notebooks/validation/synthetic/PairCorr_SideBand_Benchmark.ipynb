{
 "cells": [
  {
   "cell_type": "markdown",
   "id": "b249c07e",
   "metadata": {},
   "source": [
    "# PairCorr Side-Band Benchmark\n",
    "Synthetic test: injects a 7% side-band at $k_1 = k_0(1+1/14)$ and runs the TORUS detection pipeline."
   ]
  },
  {
   "cell_type": "code",
   "execution_count": null,
   "id": "94969488",
   "metadata": {},
   "outputs": [],
   "source": [
    "import numpy as np, matplotlib.pyplot as plt\n",
    "from scipy.signal import periodogram\n",
    "from scipy.signal.windows import hann\n",
    "\n",
    "# Parameters\n",
    "N = 1000\n",
    "L = 100\n",
    "k0 = 2 * np.pi / (L / 10)\n",
    "k1 = k0 * (1 + 1/14)\n",
    "amp0 = 1.0\n",
    "amp1 = 0.07\n",
    "\n",
    "# Generate synthetic (x, y) snapshot\n",
    "theta = np.random.uniform(0, 2*np.pi, N)\n",
    "r = L/2 + (L/4) * np.sin(k0 * np.arange(N) + np.random.uniform(0,2*np.pi))\n",
    "x = r * np.cos(theta)\n",
    "y = r * np.sin(theta)\n",
    "\n",
    "# Inject side-band\n",
    "r_sb = L/2 + (L/4) * (amp0 * np.sin(k0 * np.arange(N)) + amp1 * np.sin(k1 * np.arange(N)))\n",
    "x_sb = r_sb * np.cos(theta)\n",
    "y_sb = r_sb * np.sin(theta)\n",
    "\n",
    "# Compute pairwise distances\n",
    "from scipy.spatial.distance import pdist\n",
    "dists = pdist(np.column_stack([x_sb, y_sb]))\n",
    "\n",
    "# Bin to g2(r)\n",
    "bins = np.linspace(0, L, 200)\n",
    "g2, _ = np.histogram(dists, bins=bins)\n",
    "g2 = g2 / g2.max()\n",
    "r_centers = 0.5 * (bins[1:] + bins[:-1])\n",
    "\n",
    "# FFT\n",
    "windowed = g2 * hann(len(g2))\n",
    "freqs, power = periodogram(windowed, scaling='spectrum')\n",
    "k0_idx = np.argmax(power)\n",
    "k0_val = freqs[k0_idx]\n",
    "k1_val = k0_val * (1 + 1/14)\n",
    "k1_idx = np.argmin(abs(freqs - k1_val))\n",
    "deltaP = 10 * np.log10(power[k1_idx] / power[k0_idx])\n",
    "plt.plot(freqs, 10*np.log10(power)); plt.axvline(k0_val, color='b'); plt.axvline(k1_val, color='r');\n",
    "plt.title('Power Spectrum'); plt.xlabel('k'); plt.ylabel('10log10(Power)'); plt.show()\n",
    "print('k0=', k0_val, 'k1=', k1_val, 'ΔP=', deltaP, 'dB')\n",
    "if abs(k1_val-freqs[k1_idx])/k1_val<=.03 and -45<deltaP<-25:\n",
    "    print('TORUS-POSITIVE')\n",
    "else:\n",
    "    print('TORUS-NEGATIVE')"
   ]
  },
  {
   "cell_type": "raw",
   "id": "3a1ee969",
   "metadata": {},
   "source": [
    "{\n",
    "  \"kernelspec\": {\n",
    "    \"name\": \"python3\",\n",
    "    \"display_name\": \"Python 3\"\n",
    "  },\n",
    "  \"language_info\": {\n",
    "    \"name\": \"python\"\n",
    "  }\n",
    "}"
   ]
  }
 ],
 "metadata": {
  "kernelspec": {
   "display_name": "Python 3",
   "name": "python3"
  },
  "language_info": {
   "name": "python",
   "version": "3.10.17"
  }
 },
 "nbformat": 4,
 "nbformat_minor": 5
}
