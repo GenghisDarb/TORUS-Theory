{
 "cells": [
  {
   "cell_type": "markdown",
   "id": "b249c07e",
   "metadata": {},
   "source": [
    "# PairCorr Side-Band Benchmark\n",
    "Synthetic test: injects a 7% side-band at $k_1 = k_0(1+1/14)$ and runs the TORUS detection pipeline."
   ]
  },
  {
   "cell_type": "code",
   "execution_count": null,
   "id": "3ecd9fca",
   "metadata": {},
   "outputs": [],
   "source": [
    "import numpy as np, matplotlib.pyplot as plt\n",
    "N = 1000\n",
    "L = 100\n",
    "k0 = 2 * np.pi / (L / 10)\n",
    "k1 = k0 * (1 + 1/14)\n",
    "amp0 = 1.0\n",
    "amp1 = 0.07\n",
    "x = L * np.random.rand(N)\n",
    "y = L * np.random.rand(N)\n",
    "y += amp1 * np.sin(k1 * x)"
   ]
  },
  {
   "cell_type": "code",
   "execution_count": null,
   "id": "aa1adf77",
   "metadata": {},
   "outputs": [],
   "source": [
    "# Cell 3: g²(r) histogram\n",
    "from scipy.spatial.distance import pdist\n",
    "dists = pdist(np.column_stack([x, y]))\n",
    "bins = np.linspace(0, L, 200)\n",
    "g2, _ = np.histogram(dists, bins=bins)\n",
    "g2 = g2 / g2.max()\n",
    "k0_idx = np.argmax(power)\n",
    "k0_val = freqs[k0_idx]\n",
    "k1_val = k0_val * (1 + 1/14)\n",
    "k1_idx = np.argmin(abs(freqs - k1_val))\n",
    "deltaP = 10 * np.log10(power[k1_idx] / power[k0_idx])\n",
    "print('k0=', k0_val, 'k1=', k1_val, 'ΔP=', deltaP, 'dB')\n",
    "if abs(k1_val-freqs[k1_idx])/k1_val<=.03 and -45<deltaP<-25:\n",
    "    print('TORUS-POSITIVE')\n",
    "else:\n",
    "    print('TORUS-NEGATIVE')"
   ]
  },
  {
   "cell_type": "code",
   "execution_count": null,
   "id": "44cd7ae4",
   "metadata": {},
   "outputs": [],
   "source": [
    "# Compute power spectrum of g²(r)\n",
    "from scipy.signal import periodogram, hann\n",
    "window = hann(len(g2))\n",
    "g2_windowed = g2 * window\n",
    "freqs, power = periodogram(g2_windowed, scaling='spectrum')"
   ]
  }
 ],
 "metadata": {
  "kernelspec": {
   "display_name": "Python 3",
   "name": "python3"
  },
  "language_info": {
   "name": "python",
   "version": "3.10.17"
  }
 },
 "nbformat": 4,
 "nbformat_minor": 5
}
