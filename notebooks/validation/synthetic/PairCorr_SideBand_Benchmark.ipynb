{
 "cells": [
  {
   "cell_type": "markdown",
   "id": "318d2693",
   "metadata": {},
   "source": [
    "# PairCorr Side-Band Benchmark\n",
    "Synthetic test: injects a 7 % side-band at $k_1=k_0(1+1/14)$ and runs the TORUS detection pipeline."
   ]
  },
  {
   "cell_type": "code",
   "execution_count": null,
   "id": "4fc81e45",
   "metadata": {},
   "outputs": [],
   "source": [
    "import numpy as np, matplotlib.pyplot as plt\n",
    "N, L = 1000, 100\n",
    "k0 = 2*np.pi/(L/10)\n",
    "k1 = k0*(1+1/14)\n",
    "amp1 = 0.07\n",
    "x = L*np.random.rand(N)\n",
    "y = L*np.random.rand(N) + amp1*np.sin(k1*x)\n"
   ]
  },
  {
   "cell_type": "code",
   "execution_count": null,
   "id": "fdd1eef1",
   "metadata": {},
   "outputs": [],
   "source": [
    "from scipy.spatial.distance import pdist\n",
    "dists = pdist(np.column_stack([x, y]))\n",
    "bins = np.linspace(0, L, 200)\n",
    "g2, _ = np.histogram(dists, bins=bins)\n",
    "g2 = g2 / g2.max()\n"
   ]
  },
  {
   "cell_type": "code",
   "execution_count": null,
   "id": "236643f6",
   "metadata": {},
   "outputs": [],
   "source": [
    "from scipy.signal import periodogram
try:
    from scipy.signal.windows import hann
except ImportError:
    try:
        from scipy.signal import hann
    except ImportError:
        import numpy as np
        def hann(N):  # NumPy fallback
            return np.hanning(N)

# --- fallback if SciPy < 1.2 ---
try:
    hann
except NameError:
    import numpy as np
    def hann(N):
        return np.hanning(N)
\n",
    "freqs, power = periodogram(g2 * hann(len(g2)), scaling='spectrum')\n"
   ]
  },
  {
   "cell_type": "code",
   "execution_count": null,
   "id": "acdd56db",
   "metadata": {},
   "outputs": [],
   "source": [
    "k0_idx = np.argmax(power)\n",
    "k0_val = freqs[k0_idx]\n",
    "k1_val = k0_val * (1 + 1/14)\n",
    "k1_idx = np.argmin(abs(freqs - k1_val))\n",
    "deltaP = 10*np.log10(power[k1_idx]/power[k0_idx])\n",
    "print('k0=', k0_val, 'k1=', k1_val, 'ΔP=', deltaP, 'dB')\n",
    "if abs(k1_val-freqs[k1_idx])/k1_val<=.03 and -45<deltaP<-25:\n",
    "    print('TORUS-POSITIVE')\n",
    "else:\n",
    "    print('TORUS-NEGATIVE')\n"
   ]
  }
 ],
 "metadata": {
  "kernelspec": {
   "display_name": "Python 3",
   "language": "python",
   "name": "python3"
  }
 },
 "nbformat": 4,
 "nbformat_minor": 5
}
