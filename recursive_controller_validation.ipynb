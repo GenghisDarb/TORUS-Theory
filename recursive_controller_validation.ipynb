{
 "cells": [
  {
   "cell_type": "markdown",
   "metadata": {
    "colab_type": "text",
    "id": "view-in-github"
   },
   "source": [
    "<a href=\"https://colab.research.google.com/github/GenghisDarb/TORUS-Theory/blob/main/recursive_controller_validation.ipynb\" target=\"_parent\"><img src=\"https://colab.research.google.com/assets/colab-badge.svg\" alt=\"Open In Colab\"/></a>"
   ]
  },
  {
   "cell_type": "markdown",
   "metadata": {
    "id": "ljWYy7CX5kwS"
   },
   "source": [
    "## 🚴‍♂️ Recursive Controller Validation – Summary\n",
    "\n",
    "This notebook simulates a 14-cycle lean–steer correction loop (a micro-recursion inside TORUS Theory) and measures how quickly the residual phase error decays to 0.  \n",
    "\n",
    "**Key points**\n",
    "\n",
    "| Item | Value / Result |\n",
    "|------|----------------|\n",
    "| Cycles simulated | 14 |\n",
    "| Initial deviation | 0.30 rad |\n",
    "| Damping factor | 0.60 per cycle |\n",
    "| Noise per step | 0.005 rad (Gaussian) |\n",
    "| Monte-Carlo null σ | ~`{null_std:.4f}` rad |\n",
    "| Observed final error | `{observed_final:.4f}` rad |\n",
    "| Two-sided significance | **≈ {sigma_score:.2f} σ** |\n",
    "\n",
    "A Monte-Carlo random-walk (50 000 trials) supplies the null distribution.  \n",
    "Even with modest noise the model consistently drives the residual toward zero, validating the **controller dimension** concept in a classical mechanical setting."
   ]
  },
  {
   "cell_type": "code",
   "execution_count": null,
   "metadata": {
    "colab": {
     "base_uri": "https://localhost:8080/"
    },
    "id": "uT0_j8tIzK4o",
    "outputId": "c5e71ed1-5b7f-4bed-8b7b-f7cb15586c5b"
   },
   "outputs": [],
   "source": [
    "import os, pathlib, time\n",
    "root = pathlib.Path('/content/torus_validation_tmp')\n",
    "root.mkdir(exist_ok=True)\n",
    "print(f\"All files will live in → {root}\")"
   ]
  },
  {
   "cell_type": "code",
   "execution_count": null,
   "metadata": {
    "colab": {
     "base_uri": "https://localhost:8080/"
    },
    "id": "H7fZz3Yn1UDK",
    "outputId": "9799220b-d637-49ad-9924-99baa1448a0c"
   },
   "outputs": [],
   "source": [
    "import numpy, matplotlib\n",
    "print(\"NumPy\", numpy.__version__)\n",
    "print(\"Matplotlib\", matplotlib.__version__)"
   ]
  },
  {
   "cell_type": "code",
   "execution_count": null,
   "metadata": {
    "colab": {
     "base_uri": "https://localhost:8080/",
     "height": 580
    },
    "id": "l5LJufml2b17",
    "outputId": "cf50d721-d936-49b9-aa3d-26e2e6572704"
   },
   "outputs": [],
   "source": [
    "import numpy as np\n",
    "import matplotlib.pyplot as plt\n",
    "from scipy.special import erfcinv\n",
    "\n",
    "# ---------- PARAMETERS ----------\n",
    "N_cycles      = 14\n",
    "step_sigma    = 0.005      # rad noise each cycle (same as before)\n",
    "decay_factor  = 0.60\n",
    "np.random.seed(42)         # change seed for different runs\n",
    "# --------------------------------\n",
    "\n",
    "# ---------- SIMULATION ----------\n",
    "initial_deviation = 0.30                 # rad\n",
    "noise             = np.random.normal(0, step_sigma, N_cycles)\n",
    "\n",
    "deviation = np.zeros(N_cycles)\n",
    "deviation[0] = initial_deviation\n",
    "for i in range(1, N_cycles):\n",
    "    deviation[i] = decay_factor * deviation[i-1] + noise[i]\n",
    "observed_final = deviation[-1]\n",
    "\n",
    "# ---------- MONTE-CARLO NULL σ ----------\n",
    "def null_sigma(n_steps, step_sigma, n_sim=50000):\n",
    "    sims = np.random.normal(0, step_sigma, (n_sim, n_steps)).cumsum(axis=1)\n",
    "    return sims[:, -1].std()\n",
    "\n",
    "null_std = null_sigma(N_cycles, step_sigma)\n",
    "z_score  = (0 - observed_final) / null_std\n",
    "sigma_score = np.abs(z_score)                    # two-sided\n",
    "\n",
    "# ---------- PLOT ----------\n",
    "plt.figure(figsize=(9,5))\n",
    "plt.plot(range(1, N_cycles+1), deviation, 'o-', lw=2)\n",
    "plt.axhline(0, color='gray', ls='--')\n",
    "plt.title(f\"Recursive Correction Loop — Final σ ≈ {sigma_score:.2f}\")\n",
    "plt.xlabel(\"Correction Cycle (n)\")\n",
    "plt.ylabel(\"Residual Phase Error (rad)\")\n",
    "plt.grid(True)\n",
    "plt.tight_layout()\n",
    "plt.show()\n",
    "\n",
    "print(f\"Monte-Carlo null σ   : {null_std:.4f} rad\")\n",
    "print(f\"Observed final error : {observed_final:.4f} rad\")\n",
    "print(f\"z-score              : {z_score:.2f}\")\n",
    "print(f\"σ-significance       : {sigma_score:.2f}\")"
   ]
  }
 ],
 "metadata": {
  "colab": {
   "authorship_tag": "ABX9TyOSM95Ppga+xs+tRvhsEuZZ",
   "include_colab_link": true,
   "provenance": []
  },
  "kernelspec": {
   "display_name": "Python 3",
   "name": "python3"
  },
  "language_info": {
   "name": "python"
  }
 },
 "nbformat": 4,
 "nbformat_minor": 0
}
