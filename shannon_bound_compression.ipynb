{
 "cells": [
  {
   "cell_type": "code",
   "execution_count": 1,
   "id": "5262cdd6",
   "metadata": {},
   "outputs": [
    {
     "name": "stdout",
     "output_type": "stream",
     "text": [
      "Raw bits = 560, Ladder bits = 136, gain = 75.71%\n"
     ]
    }
   ],
   "source": [
    "\n",
    "# TORUS Phase D · Recursive Shannon-Bound Compression Test\n",
    "# Install dependency:  pip install zstandard\n",
    "import json, zstandard, os, math\n",
    "\n",
    "# Load CODATA constants JSON or mock small dict\n",
    "raw = {\n",
    "    \"alpha\": 7.2973525693e-3,\n",
    "    \"G\": 6.6743e-11,\n",
    "    \"c\": 299792458.0,\n",
    "}\n",
    "\n",
    "b_raw = zstandard.ZstdCompressor().compress(json.dumps(raw).encode())\n",
    "raw_bits = len(b_raw)*8\n",
    "\n",
    "# Mock encoded ladder residues (20 bytes placeholder)\n",
    "ladder_bytes = bytes([42]*20)\n",
    "b_comp = zstandard.ZstdCompressor().compress(ladder_bytes)\n",
    "comp_bits = len(b_comp)*8\n",
    "\n",
    "gain = (raw_bits - comp_bits)/raw_bits*100\n",
    "print(f\"Raw bits = {raw_bits}, Ladder bits = {comp_bits}, gain = {gain:.2f}%\")\n"
   ]
  },
  {
   "cell_type": "code",
   "execution_count": null,
   "id": "f72063ae-9356-463f-8333-917ad216b72a",
   "metadata": {},
   "outputs": [],
   "source": []
  }
 ],
 "metadata": {
  "kernelspec": {
   "display_name": "Python 3 (ipykernel)",
   "language": "python",
   "name": "python3"
  },
  "language_info": {
   "codemirror_mode": {
    "name": "ipython",
    "version": 3
   },
   "file_extension": ".py",
   "mimetype": "text/x-python",
   "name": "python",
   "nbconvert_exporter": "python",
   "pygments_lexer": "ipython3",
   "version": "3.13.3"
  }
 },
 "nbformat": 4,
 "nbformat_minor": 5
}
