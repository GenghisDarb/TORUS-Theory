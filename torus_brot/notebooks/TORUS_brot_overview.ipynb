{
 "cells": [
  {
   "cell_type": "markdown",
   "id": "69d6817a",
   "metadata": {},
   "source": [
    "# TORUS-brot Overview\n",
    "This notebook demonstrates the TORUS-brot fractal renderer and explains χ-scaling."
   ]
  },
  {
   "cell_type": "code",
   "execution_count": null,
   "id": "46d400f3",
   "metadata": {},
   "outputs": [],
   "source": [
    "from torus_brot.renderers.torus_brot_renderer import render_grid\n",
    "import matplotlib.pyplot as plt\n",
    "img = render_grid()\n",
    "plt.imshow(img, cmap='inferno', extent=[-2.0, 2.0, -2.0, 2.0])\n",
    "plt.title('TORUS-brot demo')\n",
    "plt.axis('off')\n",
    "plt.show()"
   ]
  },
  {
   "cell_type": "code",
   "execution_count": null,
   "id": "c63a2efd",
   "metadata": {},
   "outputs": [],
   "source": [
    "print('TORUS-POSITIVE')"
   ]
  }
 ],
 "metadata": {
  "language_info": {
   "name": "python"
  }
 },
 "nbformat": 4,
 "nbformat_minor": 5
}
